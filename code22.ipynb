{
 "cells": [
  {
   "cell_type": "markdown",
   "id": "17e5e2b0",
   "metadata": {
    "papermill": {
     "duration": 0.00652,
     "end_time": "2024-10-27T06:13:04.585193",
     "exception": false,
     "start_time": "2024-10-27T06:13:04.578673",
     "status": "completed"
    },
    "tags": []
   },
   "source": [
    "This notebook is an update of https://www.kaggle.com/code/sergeifironov/ariel-only-correlation\n",
    "from Sergei Fironov\n",
    "\n",
    "Updates :\n",
    "- keep 10:22 pixels from the 32 (the image are well centred)\n",
    "- Use the derivative for the determination of the beginning and end of the signal during eclipse (idea from Reza R. Choubeh)\n",
    "- 'Simplification' of the code for minimize\n",
    "- Degree of polyfit <= 4\n",
    "- Predictions of test after training Ridge regression with the modelization results (targets predictions with modelization) and the True targets. "
   ]
  },
  {
   "cell_type": "markdown",
   "id": "9964d39e",
   "metadata": {
    "papermill": {
     "duration": 0.004924,
     "end_time": "2024-10-27T06:13:04.595653",
     "exception": false,
     "start_time": "2024-10-27T06:13:04.590729",
     "status": "completed"
    },
    "tags": []
   },
   "source": [
    "# Librairies"
   ]
  },
  {
   "cell_type": "code",
   "execution_count": null,
   "id": "639e192e",
   "metadata": {
    "_cell_guid": "b1076dfc-b9ad-4769-8c92-a6c4dae69d19",
    "_uuid": "8f2839f25d086af736a60e9eeb907d3b93b6e0e5",
    "execution": {
     "iopub.execute_input": "2024-10-27T06:13:04.607888Z",
     "iopub.status.busy": "2024-10-27T06:13:04.607417Z",
     "iopub.status.idle": "2024-10-27T06:13:07.981503Z",
     "shell.execute_reply": "2024-10-27T06:13:07.980253Z"
    },
    "papermill": {
     "duration": 3.383509,
     "end_time": "2024-10-27T06:13:07.984370",
     "exception": false,
     "start_time": "2024-10-27T06:13:04.600861",
     "status": "completed"
    },
    "tags": []
   },
   "outputs": [],
   "source": [
    "import pandas as pd\n",
    "import matplotlib.pyplot as plt\n",
    "import numpy as np\n",
    "from tqdm import tqdm\n",
    "import joblib\n",
    "from sklearn.linear_model import Ridge\n",
    "from sklearn.metrics import r2_score, mean_squared_error\n",
    "import itertools\n",
    "from scipy.optimize import minimize\n",
    "from scipy import optimize\n",
    "from astropy.stats import sigma_clip\n",
    "from multiprocessing import Pool\n",
    "import multiprocessing as mp\n",
    "from tqdm import tqdm\n",
    "\n",
    "dataset = 'test'\n",
    "adc_info = pd.read_csv('/kaggle/input/ariel-data-challenge-2024/'+f'{dataset}_adc_info.csv',index_col='planet_id')\n",
    "axis_info = pd.read_parquet('/kaggle/input/ariel-data-challenge-2024/axis_info.parquet')\n",
    "planet_ids = adc_info.index.tolist()\n"
   ]
  },
  {
   "cell_type": "code",
   "execution_count": null,
   "id": "4fcbec96",
   "metadata": {
    "execution": {
     "iopub.execute_input": "2024-10-27T06:13:07.997674Z",
     "iopub.status.busy": "2024-10-27T06:13:07.996800Z",
     "iopub.status.idle": "2024-10-27T06:13:08.023631Z",
     "shell.execute_reply": "2024-10-27T06:13:08.022388Z"
    },
    "papermill": {
     "duration": 0.036071,
     "end_time": "2024-10-27T06:13:08.026223",
     "exception": false,
     "start_time": "2024-10-27T06:13:07.990152",
     "status": "completed"
    },
    "tags": []
   },
   "outputs": [],
   "source": [
    "def apply_linear_corr(linear_corr,clean_signal):\n",
    "    linear_corr = np.flip(linear_corr, axis=0)\n",
    "    for x, y in itertools.product(\n",
    "                range(clean_signal.shape[1]), range(clean_signal.shape[2])\n",
    "            ):\n",
    "        poli = np.poly1d(linear_corr[:, x, y])\n",
    "        clean_signal[:, x, y] = poli(clean_signal[:, x, y])\n",
    "    return clean_signal\n",
    "\n",
    "def clean_dark(signal, dark, dt):\n",
    "    dark = np.tile(dark, (signal.shape[0], 1, 1))\n",
    "    signal -= dark* dt[:, np.newaxis, np.newaxis]\n",
    "    return signal\n",
    "\n",
    "def preproc_single(arg):\n",
    "    planet_id, sensor, binning = arg[0],arg[1],arg[2]\n",
    "    cut_inf, cut_sup = 39, 321\n",
    "    sensor_sizes_dict = {\"AIRS-CH0\":[[11250, 32, 356], [1, 32, cut_sup-cut_inf]], \"FGS1\":[[135000, 32, 32], [1, 32, 32]]}\n",
    "    binned_dict = {\"AIRS-CH0\":[11250 // binning // 2, 282], \"FGS1\":[135000 // binning // 2]}\n",
    "    linear_corr_dict = {\"AIRS-CH0\":(6, 32, 356), \"FGS1\":(6, 32, 32)}\n",
    "    planet_ids = adc_info.index\n",
    "    \n",
    "    feats = []\n",
    "#     for i, planet_id in tqdm(list(enumerate(planet_ids))):\n",
    "    signal = pd.read_parquet(f'/kaggle/input/ariel-data-challenge-2024/{dataset}/{planet_id}/{sensor}_signal.parquet').to_numpy()\n",
    "    dark_frame = pd.read_parquet(f'/kaggle/input/ariel-data-challenge-2024/{dataset}/' + str(planet_id) + '/' + sensor + '_calibration/dark.parquet', engine='pyarrow').to_numpy()\n",
    "    dead_frame = pd.read_parquet(f'/kaggle/input/ariel-data-challenge-2024/{dataset}/' + str(planet_id) + '/' + sensor + '_calibration/dead.parquet', engine='pyarrow').to_numpy()\n",
    "    flat_frame = pd.read_parquet(f'/kaggle/input/ariel-data-challenge-2024/{dataset}/' + str(planet_id) + '/' + sensor + '_calibration/flat.parquet', engine='pyarrow').to_numpy()\n",
    "    linear_corr = pd.read_parquet(f'/kaggle/input/ariel-data-challenge-2024/{dataset}/' + str(planet_id) + '/' + sensor + '_calibration/linear_corr.parquet').values.astype(np.float64).reshape(linear_corr_dict[sensor])\n",
    "\n",
    "    signal = signal.reshape(sensor_sizes_dict[sensor][0]) \n",
    "    gain = adc_info.loc[planet_id,f'{sensor}_adc_gain']\n",
    "    offset = adc_info.loc[planet_id,f'{sensor}_adc_offset']\n",
    "    signal = signal / gain + offset\n",
    "\n",
    "    hot = sigma_clip(\n",
    "        dark_frame, sigma=5, maxiters=5\n",
    "    ).mask\n",
    "\n",
    "    if sensor != \"FGS1\":\n",
    "        signal = signal[:, :, cut_inf:cut_sup] \n",
    "        dt = np.ones(len(signal))*0.1 \n",
    "        dt[1::2] += 4.5 #@bilzard idea\n",
    "        linear_corr = linear_corr[:, :, cut_inf:cut_sup]\n",
    "        dark_frame = dark_frame[:, cut_inf:cut_sup]\n",
    "        dead_frame = dead_frame[:, cut_inf:cut_sup]\n",
    "        flat_frame = flat_frame[:, cut_inf:cut_sup]\n",
    "        hot = hot[:, cut_inf:cut_sup]\n",
    "    else:\n",
    "        dt = np.ones(len(signal))*0.1\n",
    "        dt[1::2] += 0.1\n",
    "\n",
    "    signal = signal.clip(0) #@graySnow idea\n",
    "    linear_corr_signal = apply_linear_corr(linear_corr, signal)\n",
    "    signal = clean_dark(linear_corr_signal, dark_frame, dt)\n",
    "\n",
    "    flat = flat_frame.reshape(sensor_sizes_dict[sensor][1])\n",
    "    flat[dead_frame.reshape(sensor_sizes_dict[sensor][1])] = np.nan\n",
    "    flat[hot.reshape(sensor_sizes_dict[sensor][1])] = np.nan\n",
    "    signal = signal / flat\n",
    "\n",
    "\n",
    "    if sensor == \"FGS1\":\n",
    "        signal = signal[:,10:22,10:22] # **** updates ****\n",
    "        signal = signal.reshape(sensor_sizes_dict[sensor][0][0],144) # # **** updates ****\n",
    "\n",
    "    if sensor != \"FGS1\":\n",
    "        signal = signal[:,10:22,:] # **** updates ****\n",
    "\n",
    "    mean_signal = np.nanmean(signal, axis=1) \n",
    "    cds_signal = (mean_signal[1::2] - 2*mean_signal[0::2])\n",
    "\n",
    "    binned = np.zeros((binned_dict[sensor]))\n",
    "    for j in range(cds_signal.shape[0] // binning):\n",
    "        binned[j] = cds_signal[j*binning:j*binning+binning].mean(axis=0) \n",
    "\n",
    "    if sensor == \"FGS1\":\n",
    "        binned = binned.reshape((binned.shape[0],1))\n",
    "\n",
    "    return binned"
   ]
  },
  {
   "cell_type": "code",
   "execution_count": null,
   "id": "9238f1b3",
   "metadata": {
    "execution": {
     "iopub.execute_input": "2024-10-27T06:13:08.038602Z",
     "iopub.status.busy": "2024-10-27T06:13:08.038160Z",
     "iopub.status.idle": "2024-10-27T06:13:14.083496Z",
     "shell.execute_reply": "2024-10-27T06:13:14.082187Z"
    },
    "papermill": {
     "duration": 6.054565,
     "end_time": "2024-10-27T06:13:14.086171",
     "exception": false,
     "start_time": "2024-10-27T06:13:08.031606",
     "status": "completed"
    },
    "tags": []
   },
   "outputs": [],
   "source": [
    "\n",
    "pool = Pool(processes=4) \n",
    "args = [(xx, 'AIRS-CH0', 30) for xx in planet_ids]\n",
    "\n",
    "# dataset = \"train\"\n",
    "# adc_info = pd.read_csv(\n",
    "#     \"/kaggle/input/ariel-data-challenge-2024/\" + f\"{dataset}_adc_info.csv\",\n",
    "#     index_col=\"planet_id\",\n",
    "# )\n",
    "# axis_info = pd.read_parquet(\"/kaggle/input/ariel-data-challenge-2024/axis_info.parquet\")\n",
    "# planet_ids = adc_info.index\n",
    "\n",
    "\n",
    "with mp.Pool(processes=4) as pool:\n",
    "    results = list(tqdm(pool.imap(preproc_single, args), total=len(args)))\n"
   ]
  },
  {
   "cell_type": "code",
   "execution_count": null,
   "id": "64a4700e",
   "metadata": {},
   "outputs": [],
   "source": [
    "pre_train = np.stack(results)\n",
    "pre_train"
   ]
  },
  {
   "cell_type": "markdown",
   "id": "458acace",
   "metadata": {
    "papermill": {
     "duration": 0.00537,
     "end_time": "2024-10-27T06:13:14.097600",
     "exception": false,
     "start_time": "2024-10-27T06:13:14.092230",
     "status": "completed"
    },
    "tags": []
   },
   "source": [
    "# Calibration"
   ]
  },
  {
   "cell_type": "code",
   "execution_count": null,
   "id": "1497be2d",
   "metadata": {
    "execution": {
     "iopub.execute_input": "2024-10-27T06:13:14.111347Z",
     "iopub.status.busy": "2024-10-27T06:13:14.110870Z",
     "iopub.status.idle": "2024-10-27T06:13:14.185952Z",
     "shell.execute_reply": "2024-10-27T06:13:14.184840Z"
    },
    "papermill": {
     "duration": 0.085228,
     "end_time": "2024-10-27T06:13:14.188684",
     "exception": false,
     "start_time": "2024-10-27T06:13:14.103456",
     "status": "completed"
    },
    "tags": []
   },
   "outputs": [],
   "source": [
    "def phase_detector(signal):\n",
    "    MIN = np.argmin(signal[30:140])+30\n",
    "    signal1 = signal[:MIN ]\n",
    "    signal2 = signal[MIN :]\n",
    "    first_derivative1 = np.gradient(signal1)\n",
    "    first_derivative1 /= first_derivative1.max()\n",
    "    first_derivative2 = np.gradient(signal2)\n",
    "    first_derivative2 /= first_derivative2.max()\n",
    "    phase1 = np.argmin(first_derivative1)\n",
    "    phase2 = np.argmax(first_derivative2) + MIN\n",
    "    return phase1, phase2\n",
    "\n",
    "def objective(s):\n",
    "    best_q = 1e10\n",
    "    for i in range(4) :\n",
    "        delta = 2\n",
    "        y = signal[:p1-delta].tolist() + \\\n",
    "                (signal[p1+delta:p2 - delta] * (1 + s)).tolist() + \\\n",
    "                signal[p2+delta:].tolist()\n",
    "        \n",
    "        x = list(range(len(y)))\n",
    "        z = np.polyfit(x, y, deg=i)\n",
    "        p = np.poly1d(z)\n",
    "        q = np.abs(p(x) - y).mean()\n",
    "    if q < best_q :\n",
    "        best_q = q\n",
    "    return q\n",
    " \n",
    "\n",
    "def objective0(s):\n",
    "    best_q = 1e10\n",
    "    for i in range(4) :\n",
    "        delta = 2\n",
    "        y = signal[:p1-delta].tolist() + \\\n",
    "                (signal[p1+delta:p2 - delta] * (1 + s)).tolist() + \\\n",
    "                signal[p2+delta:].tolist()\n",
    "        \n",
    "        x = list(range(len(y)))\n",
    "        z = np.polyfit(x, y, deg=i)\n",
    "        p = np.poly1d(z)\n",
    "        q = np.abs(p(x) - y).mean()\n",
    "    if q < best_q :\n",
    "        best_q = q\n",
    "    return q\n",
    " "
   ]
  },
  {
   "cell_type": "markdown",
   "id": "11865c52",
   "metadata": {
    "papermill": {
     "duration": 0.005712,
     "end_time": "2024-10-27T06:13:14.200503",
     "exception": false,
     "start_time": "2024-10-27T06:13:14.194791",
     "status": "completed"
    },
    "tags": []
   },
   "source": [
    "# Modelization"
   ]
  },
  {
   "cell_type": "code",
   "execution_count": null,
   "id": "90cae986",
   "metadata": {
    "execution": {
     "iopub.execute_input": "2024-10-27T06:13:14.214452Z",
     "iopub.status.busy": "2024-10-27T06:13:14.214011Z",
     "iopub.status.idle": "2024-10-27T06:13:14.549635Z",
     "shell.execute_reply": "2024-10-27T06:13:14.548466Z"
    },
    "papermill": {
     "duration": 0.346344,
     "end_time": "2024-10-27T06:13:14.552790",
     "exception": false,
     "start_time": "2024-10-27T06:13:14.206446",
     "status": "completed"
    },
    "tags": []
   },
   "outputs": [],
   "source": [
    "\n",
    "all_s = []\n",
    "for i in tqdm(range(len(adc_info))):\n",
    "    \n",
    "    signal = pre_train[i,:,:].mean(axis=1)\n",
    "    p1,p2 = phase_detector(signal)\n",
    " \n",
    "    r = minimize(\n",
    "                objective,\n",
    "                [0.0001],\n",
    "                method= 'Nelder-Mead'\n",
    "                  )\n",
    "    s = r.x[0]\n",
    "    all_s.append(s)\n",
    "\n",
    "pred = np.repeat(np.array(all_s), 283).reshape((len(all_s), 283))   \n",
    "\n",
    "\n",
    "\n",
    "    \n",
    "    \n",
    "## do it again\n",
    "all_s_again = []\n",
    "for ii in tqdm(range(7)):\n",
    "    useindex = np.array(range(max(ii*20,0),min(ii*20+180,282)))\n",
    "    tmp = []\n",
    "    for i in (range(len(adc_info))):\n",
    "        signal = pre_train[i,:,useindex].T.mean(axis=1)\n",
    "        try:\n",
    "            p1,p2 = phase_detector(signal)\n",
    "\n",
    "            r = minimize(\n",
    "                        objective,\n",
    "                        [0.0001],\n",
    "                        method= 'Nelder-Mead'\n",
    "                          )\n",
    "            s = r.x[0]\n",
    "        except:\n",
    "            s = all_s[i]\n",
    "        tmp.append(s)\n",
    "    all_s_again.append(tmp)    \n",
    "all_s_again = np.array(all_s_again)\n",
    "\n"
   ]
  },
  {
   "cell_type": "markdown",
   "id": "0c35e149",
   "metadata": {
    "papermill": {
     "duration": 0.006225,
     "end_time": "2024-10-27T06:13:14.565637",
     "exception": false,
     "start_time": "2024-10-27T06:13:14.559412",
     "status": "completed"
    },
    "tags": []
   },
   "source": [
    "# Predictions with Ridge model"
   ]
  },
  {
   "cell_type": "code",
   "execution_count": null,
   "id": "34872910",
   "metadata": {
    "execution": {
     "iopub.execute_input": "2024-10-27T06:13:14.581148Z",
     "iopub.status.busy": "2024-10-27T06:13:14.580680Z",
     "iopub.status.idle": "2024-10-27T06:13:14.593237Z",
     "shell.execute_reply": "2024-10-27T06:13:14.592151Z"
    },
    "papermill": {
     "duration": 0.02299,
     "end_time": "2024-10-27T06:13:14.595543",
     "exception": false,
     "start_time": "2024-10-27T06:13:14.572553",
     "status": "completed"
    },
    "tags": []
   },
   "outputs": [],
   "source": [
    "pred = np.repeat(all_s_again.mean(axis=0), 283).reshape((len(all_s), 283)) \n",
    "sigma = np.repeat(all_s_again.std(axis=0), 283).reshape((len(all_s), 283))\n",
    "sigma[:,:4],pred[0][0]"
   ]
  },
  {
   "cell_type": "code",
   "execution_count": null,
   "id": "62c9ce99",
   "metadata": {
    "execution": {
     "iopub.execute_input": "2024-10-27T06:13:14.610925Z",
     "iopub.status.busy": "2024-10-27T06:13:14.610457Z",
     "iopub.status.idle": "2024-10-27T06:13:14.616158Z",
     "shell.execute_reply": "2024-10-27T06:13:14.614986Z"
    },
    "papermill": {
     "duration": 0.016427,
     "end_time": "2024-10-27T06:13:14.618711",
     "exception": false,
     "start_time": "2024-10-27T06:13:14.602284",
     "status": "completed"
    },
    "tags": []
   },
   "outputs": [],
   "source": [
    "# model = joblib.load(\"/kaggle/input/adc24-meta-model-ridge/model_ridge_10_22_delta2.joblib\")\n",
    "# pred = model.predict(all_s)\n",
    "# pd.DataFrame(pred)\n",
    "# import pickle\n",
    "# with open('/kaggle/input/ad24-train-inf-ridge-addfe-lb-441/model.pickle', 'rb') as f:\n",
    "#     model = pickle.load(f)\n",
    "# pred = model.predict(all_s)\n",
    "# pd.DataFrame(pred)"
   ]
  },
  {
   "cell_type": "code",
   "execution_count": null,
   "id": "a2435ca2",
   "metadata": {},
   "outputs": [],
   "source": [
    "try:\n",
    "    for wave, scale in wave_to_apriori_scale.items():\n",
    "        # scale s\n",
    "        if 0.99 < scale < 1.01:\n",
    "            scale = 1.0\n",
    "        if wave in ['wl_2']:\n",
    "            scale = 0.99\n",
    "        if wave in ['wl_133', 'wl_134']:\n",
    "            scale = 1.01\n",
    "        scale = np.clip(scale, 0.993, 1.007)\n",
    "        submission[wave] *= scale\n",
    "\n",
    "        # scale sigma\n",
    "        wl_idx = wave.split('_')[-1]\n",
    "        scale = 1.0 + 28.0 * (scale - 1.0)\n",
    "        assert 1 <= int(wl_idx) <= 283\n",
    "        submission['sigma_' + wl_idx] *= scale\n",
    "except:\n",
    "    1"
   ]
  },
  {
   "cell_type": "markdown",
   "id": "39431d62",
   "metadata": {
    "papermill": {
     "duration": 0.006588,
     "end_time": "2024-10-27T06:13:14.632466",
     "exception": false,
     "start_time": "2024-10-27T06:13:14.625878",
     "status": "completed"
    },
    "tags": []
   },
   "source": [
    "# Submission"
   ]
  },
  {
   "cell_type": "code",
   "execution_count": null,
   "id": "8591216a",
   "metadata": {
    "execution": {
     "iopub.execute_input": "2024-10-27T06:13:14.647566Z",
     "iopub.status.busy": "2024-10-27T06:13:14.647149Z",
     "iopub.status.idle": "2024-10-27T06:13:14.711420Z",
     "shell.execute_reply": "2024-10-27T06:13:14.710153Z"
    },
    "papermill": {
     "duration": 0.0749,
     "end_time": "2024-10-27T06:13:14.714081",
     "exception": false,
     "start_time": "2024-10-27T06:13:14.639181",
     "status": "completed"
    },
    "tags": []
   },
   "outputs": [],
   "source": [
    "sub = pd.read_csv('/kaggle/input/ariel-data-challenge-2024/sample_submission.csv')\n",
    "sigma_new = (sigma*2.01).clip(0.00001)\n",
    "pred = pred.clip(0) \n",
    "submission = pd.DataFrame(np.concatenate([pred,sigma_new], axis=1), columns=sub.columns[1:])\n",
    "submission.index = adc_info.index\n",
    "submission.to_csv('submission.csv')\n",
    "submission"
   ]
  }
 ],
 "metadata": {
  "kaggle": {
   "accelerator": "none",
   "dataSources": [
    {
     "databundleVersionId": 9188054,
     "sourceId": 70367,
     "sourceType": "competition"
    },
    {
     "datasetId": 5628160,
     "sourceId": 9331726,
     "sourceType": "datasetVersion"
    },
    {
     "sourceId": 196522559,
     "sourceType": "kernelVersion"
    }
   ],
   "dockerImageVersionId": 30761,
   "isGpuEnabled": false,
   "isInternetEnabled": false,
   "language": "python",
   "sourceType": "notebook"
  },
  "kernelspec": {
   "display_name": "Python 3 (ipykernel)",
   "language": "python",
   "name": "python3"
  },
  "language_info": {
   "codemirror_mode": {
    "name": "ipython",
    "version": 3
   },
   "file_extension": ".py",
   "mimetype": "text/x-python",
   "name": "python",
   "nbconvert_exporter": "python",
   "pygments_lexer": "ipython3",
   "version": "3.9.13"
  },
  "papermill": {
   "default_parameters": {},
   "duration": 13.967296,
   "end_time": "2024-10-27T06:13:15.443640",
   "environment_variables": {},
   "exception": null,
   "input_path": "__notebook__.ipynb",
   "output_path": "__notebook__.ipynb",
   "parameters": {},
   "start_time": "2024-10-27T06:13:01.476344",
   "version": "2.6.0"
  }
 },
 "nbformat": 4,
 "nbformat_minor": 5
}
