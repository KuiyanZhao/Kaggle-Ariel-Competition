{
 "cells": [
  {
   "cell_type": "markdown",
   "id": "b688dd27",
   "metadata": {
    "papermill": {
     "duration": 0.004392,
     "end_time": "2024-09-09T18:39:17.675081",
     "exception": false,
     "start_time": "2024-09-09T18:39:17.670689",
     "status": "completed"
    },
    "tags": []
   },
   "source": [
    "# Librairies"
   ]
  },
  {
   "cell_type": "code",
   "execution_count": 1,
   "id": "90118cda",
   "metadata": {
    "_cell_guid": "b1076dfc-b9ad-4769-8c92-a6c4dae69d19",
    "_uuid": "8f2839f25d086af736a60e9eeb907d3b93b6e0e5",
    "execution": {
     "iopub.execute_input": "2024-09-09T18:39:17.687042Z",
     "iopub.status.busy": "2024-09-09T18:39:17.686456Z",
     "iopub.status.idle": "2024-09-09T18:39:20.540922Z",
     "shell.execute_reply": "2024-09-09T18:39:20.539479Z"
    },
    "papermill": {
     "duration": 2.864392,
     "end_time": "2024-09-09T18:39:20.544113",
     "exception": false,
     "start_time": "2024-09-09T18:39:17.679721",
     "status": "completed"
    },
    "tags": []
   },
   "outputs": [],
   "source": [
    "import pandas as pd\n",
    "import matplotlib.pyplot as plt\n",
    "import numpy as np\n",
    "from tqdm import tqdm\n",
    "import joblib\n",
    "\n",
    "from sklearn.linear_model import Ridge\n",
    "from sklearn.metrics import r2_score, mean_squared_error\n",
    "import itertools\n",
    "\n",
    "from scipy.optimize import minimize\n",
    "from scipy import optimize\n",
    "\n",
    "from astropy.stats import sigma_clip"
   ]
  },
  {
   "cell_type": "code",
   "execution_count": 2,
   "id": "1cbd289d",
   "metadata": {
    "execution": {
     "iopub.execute_input": "2024-09-09T18:39:20.555692Z",
     "iopub.status.busy": "2024-09-09T18:39:20.555095Z",
     "iopub.status.idle": "2024-09-09T18:39:20.733023Z",
     "shell.execute_reply": "2024-09-09T18:39:20.731181Z"
    },
    "papermill": {
     "duration": 0.187092,
     "end_time": "2024-09-09T18:39:20.736102",
     "exception": false,
     "start_time": "2024-09-09T18:39:20.549010",
     "status": "completed"
    },
    "tags": []
   },
   "outputs": [],
   "source": [
    "dataset = 'train'\n",
    "adc_info = pd.read_csv('/kaggle/input/ariel-data-challenge-2024/'+f'{dataset}_adc_info.csv',index_col='planet_id')\n",
    "axis_info = pd.read_parquet('/kaggle/input/ariel-data-challenge-2024/axis_info.parquet')"
   ]
  },
  {
   "cell_type": "markdown",
   "id": "c8ace7bf",
   "metadata": {
    "papermill": {
     "duration": 0.004303,
     "end_time": "2024-09-09T18:39:20.745183",
     "exception": false,
     "start_time": "2024-09-09T18:39:20.740880",
     "status": "completed"
    },
    "tags": []
   },
   "source": [
    "# Calibration"
   ]
  },
  {
   "cell_type": "code",
   "execution_count": 3,
   "id": "9c8613d8",
   "metadata": {
    "execution": {
     "iopub.execute_input": "2024-09-09T18:39:20.757418Z",
     "iopub.status.busy": "2024-09-09T18:39:20.756482Z",
     "iopub.status.idle": "2024-09-09T18:39:33.746059Z",
     "shell.execute_reply": "2024-09-09T18:39:33.744607Z"
    },
    "papermill": {
     "duration": 12.998964,
     "end_time": "2024-09-09T18:39:33.748956",
     "exception": false,
     "start_time": "2024-09-09T18:39:20.749992",
     "status": "completed"
    },
    "tags": []
   },
   "outputs": [
    {
     "name": "stderr",
     "output_type": "stream",
     "text": [
      "100%|██████████| 1/1 [00:06<00:00,  6.82s/it]\n",
      "100%|██████████| 1/1 [00:06<00:00,  6.12s/it]\n"
     ]
    }
   ],
   "source": [
    "def apply_linear_corr(linear_corr,clean_signal):\n",
    "    linear_corr = np.flip(linear_corr, axis=0)\n",
    "    for x, y in itertools.product(\n",
    "                range(clean_signal.shape[1]), range(clean_signal.shape[2])\n",
    "            ):\n",
    "        poli = np.poly1d(linear_corr[:, x, y])\n",
    "        clean_signal[:, x, y] = poli(clean_signal[:, x, y])\n",
    "    return clean_signal\n",
    "\n",
    "def clean_dark(signal, dark, dt):\n",
    "    dark = np.tile(dark, (signal.shape[0], 1, 1))\n",
    "    signal -= dark* dt[:, np.newaxis, np.newaxis]\n",
    "    return signal\n",
    "\n",
    "def preproc(dataset, adc_info, sensor, binning = 15):\n",
    "    cut_inf, cut_sup = 39, 321\n",
    "    sensor_sizes_dict = {\"AIRS-CH0\":[[11250, 32, 356], [1, 32, cut_sup-cut_inf]], \"FGS1\":[[135000, 32, 32], [1, 32, 32]]}\n",
    "    binned_dict = {\"AIRS-CH0\":[11250 // binning // 2, 282], \"FGS1\":[135000 // binning // 2]}\n",
    "    linear_corr_dict = {\"AIRS-CH0\":(6, 32, 356), \"FGS1\":(6, 32, 32)}\n",
    "    planet_ids = adc_info.index\n",
    "    \n",
    "    feats = []\n",
    "    for i, planet_id in tqdm(list(enumerate(planet_ids))):\n",
    "        signal = pd.read_parquet(f'/kaggle/input/ariel-data-challenge-2024/{dataset}/{planet_id}/{sensor}_signal.parquet').to_numpy()\n",
    "        dark_frame = pd.read_parquet(f'/kaggle/input/ariel-data-challenge-2024/{dataset}/' + str(planet_id) + '/' + sensor + '_calibration/dark.parquet', engine='pyarrow').to_numpy()\n",
    "        dead_frame = pd.read_parquet(f'/kaggle/input/ariel-data-challenge-2024/{dataset}/' + str(planet_id) + '/' + sensor + '_calibration/dead.parquet', engine='pyarrow').to_numpy()\n",
    "        flat_frame = pd.read_parquet(f'/kaggle/input/ariel-data-challenge-2024/{dataset}/' + str(planet_id) + '/' + sensor + '_calibration/flat.parquet', engine='pyarrow').to_numpy()\n",
    "        linear_corr = pd.read_parquet(f'/kaggle/input/ariel-data-challenge-2024/{dataset}/' + str(planet_id) + '/' + sensor + '_calibration/linear_corr.parquet').values.astype(np.float64).reshape(linear_corr_dict[sensor])\n",
    "\n",
    "        signal = signal.reshape(sensor_sizes_dict[sensor][0]) \n",
    "        gain = adc_info[f'{sensor}_adc_gain'].values[i]\n",
    "        offset = adc_info[f'{sensor}_adc_offset'].values[i]\n",
    "        signal = signal / gain + offset\n",
    "        \n",
    "        hot = sigma_clip(\n",
    "            dark_frame, sigma=5, maxiters=5\n",
    "        ).mask\n",
    "        \n",
    "        if sensor != \"FGS1\":\n",
    "            signal = signal[:, :, cut_inf:cut_sup] \n",
    "            dt = np.ones(len(signal))*0.1 \n",
    "            dt[1::2] += 4.5 #@bilzard idea\n",
    "            linear_corr = linear_corr[:, :, cut_inf:cut_sup]\n",
    "            dark_frame = dark_frame[:, cut_inf:cut_sup]\n",
    "            dead_frame = dead_frame[:, cut_inf:cut_sup]\n",
    "            flat_frame = flat_frame[:, cut_inf:cut_sup]\n",
    "            hot = hot[:, cut_inf:cut_sup]\n",
    "        else:\n",
    "            dt = np.ones(len(signal))*0.1\n",
    "            dt[1::2] += 0.1\n",
    "            \n",
    "        signal = signal.clip(0) #@graySnow idea\n",
    "        linear_corr_signal = apply_linear_corr(linear_corr, signal)\n",
    "        signal = clean_dark(linear_corr_signal, dark_frame, dt)\n",
    "        \n",
    "        flat = flat_frame.reshape(sensor_sizes_dict[sensor][1])\n",
    "        flat[dead_frame.reshape(sensor_sizes_dict[sensor][1])] = np.nan\n",
    "        flat[hot.reshape(sensor_sizes_dict[sensor][1])] = np.nan\n",
    "        signal = signal / flat\n",
    "        \n",
    "        \n",
    "        if sensor == \"FGS1\":\n",
    "            signal = signal[:,10:22,10:22] # **** updates ****\n",
    "            signal = signal.reshape(sensor_sizes_dict[sensor][0][0],144) # # **** updates ****\n",
    "\n",
    "        if sensor != \"FGS1\":\n",
    "            signal = signal[:,10:22,:] # **** updates ****\n",
    "\n",
    "        mean_signal = np.nanmean(signal, axis=1) \n",
    "        cds_signal = (mean_signal[1::2] - mean_signal[0::2])\n",
    "        \n",
    "        binned = np.zeros((binned_dict[sensor]))\n",
    "        for j in range(cds_signal.shape[0] // binning):\n",
    "            binned[j] = cds_signal[j*binning:j*binning+binning].mean(axis=0) \n",
    "                   \n",
    "        if sensor == \"FGS1\":\n",
    "            binned = binned.reshape((binned.shape[0],1))\n",
    "        \n",
    "        feats.append(binned)\n",
    "        \n",
    "    return np.stack(feats)\n",
    "    \n",
    "pre_train = np.concatenate([preproc(f'{dataset}', adc_info, \"FGS1\", 30*12), preproc(f'{dataset}', adc_info, \"AIRS-CH0\", 30)], axis=2)"
   ]
  },
  {
   "cell_type": "code",
   "execution_count": null,
   "id": "82edbdeb-d670-49f7-9c58-2e33cf9a9c76",
   "metadata": {},
   "outputs": [],
   "source": [
    "import pickle\n",
    "with open('pre_train.pkl', 'wb') as file:\n",
    "    pickle.dump(pre_train, file)"
   ]
  },
  {
   "cell_type": "code",
   "execution_count": null,
   "id": "daf15f4d-7e99-4814-846b-3e2758c50a26",
   "metadata": {},
   "outputs": [],
   "source": []
  },
  {
   "cell_type": "code",
   "execution_count": null,
   "id": "2d93f4bb-cf5f-440e-9fc9-1527c143df56",
   "metadata": {},
   "outputs": [],
   "source": []
  }
 ],
 "metadata": {
  "kaggle": {
   "accelerator": "none",
   "dataSources": [
    {
     "databundleVersionId": 9188054,
     "sourceId": 70367,
     "sourceType": "competition"
    },
    {
     "datasetId": 5628160,
     "sourceId": 9331726,
     "sourceType": "datasetVersion"
    }
   ],
   "dockerImageVersionId": 30761,
   "isGpuEnabled": false,
   "isInternetEnabled": false,
   "language": "python",
   "sourceType": "notebook"
  },
  "kernelspec": {
   "display_name": "Python 3 (ipykernel)",
   "language": "python",
   "name": "python3"
  },
  "language_info": {
   "codemirror_mode": {
    "name": "ipython",
    "version": 3
   },
   "file_extension": ".py",
   "mimetype": "text/x-python",
   "name": "python",
   "nbconvert_exporter": "python",
   "pygments_lexer": "ipython3",
   "version": "3.10.8"
  },
  "papermill": {
   "default_parameters": {},
   "duration": 20.301538,
   "end_time": "2024-09-09T18:39:34.800455",
   "environment_variables": {},
   "exception": null,
   "input_path": "__notebook__.ipynb",
   "output_path": "__notebook__.ipynb",
   "parameters": {},
   "start_time": "2024-09-09T18:39:14.498917",
   "version": "2.6.0"
  }
 },
 "nbformat": 4,
 "nbformat_minor": 5
}
