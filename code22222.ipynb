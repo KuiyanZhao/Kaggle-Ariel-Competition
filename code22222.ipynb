{
 "cells": [
  {
   "cell_type": "markdown",
   "id": "7c8957ab",
   "metadata": {
    "papermill": {
     "duration": 0.006591,
     "end_time": "2024-10-26T03:32:53.269944",
     "exception": false,
     "start_time": "2024-10-26T03:32:53.263353",
     "status": "completed"
    },
    "tags": []
   },
   "source": [
    "This notebook is an update of https://www.kaggle.com/code/sergeifironov/ariel-only-correlation\n",
    "from Sergei Fironov\n",
    "\n",
    "Updates :\n",
    "- keep 10:22 pixels from the 32 (the image are well centred)\n",
    "- Use the derivative for the determination of the beginning and end of the signal during eclipse (idea from Reza R. Choubeh)\n",
    "- 'Simplification' of the code for minimize\n",
    "- Degree of polyfit <= 4\n",
    "- Predictions of test after training Ridge regression with the modelization results (targets predictions with modelization) and the True targets. "
   ]
  },
  {
   "cell_type": "markdown",
   "id": "c0a96b68",
   "metadata": {
    "papermill": {
     "duration": 0.003374,
     "end_time": "2024-10-26T03:32:53.279166",
     "exception": false,
     "start_time": "2024-10-26T03:32:53.275792",
     "status": "completed"
    },
    "tags": []
   },
   "source": [
    "# Librairies"
   ]
  },
  {
   "cell_type": "code",
   "execution_count": 1,
   "id": "8c6b7e10",
   "metadata": {
    "_cell_guid": "b1076dfc-b9ad-4769-8c92-a6c4dae69d19",
    "_uuid": "8f2839f25d086af736a60e9eeb907d3b93b6e0e5",
    "execution": {
     "iopub.execute_input": "2024-10-26T03:32:53.288815Z",
     "iopub.status.busy": "2024-10-26T03:32:53.287808Z",
     "iopub.status.idle": "2024-10-26T03:32:56.562035Z",
     "shell.execute_reply": "2024-10-26T03:32:56.561095Z"
    },
    "papermill": {
     "duration": 3.281775,
     "end_time": "2024-10-26T03:32:56.564585",
     "exception": false,
     "start_time": "2024-10-26T03:32:53.282810",
     "status": "completed"
    },
    "tags": []
   },
   "outputs": [],
   "source": [
    "import pandas as pd\n",
    "import matplotlib.pyplot as plt\n",
    "import numpy as np\n",
    "from tqdm import tqdm\n",
    "import joblib\n",
    "from sklearn.linear_model import Ridge\n",
    "from sklearn.metrics import r2_score, mean_squared_error\n",
    "import itertools\n",
    "from scipy.optimize import minimize\n",
    "from scipy import optimize\n",
    "from astropy.stats import sigma_clip\n",
    "from multiprocessing import Pool\n",
    "import multiprocessing as mp\n",
    "from tqdm import tqdm\n",
    "\n",
    "dataset = 'test'\n",
    "adc_info = pd.read_csv('../input/ariel-data-challenge-2024/'+f'{dataset}_adc_info.csv',index_col='planet_id')\n",
    "axis_info = pd.read_parquet('../input/ariel-data-challenge-2024/axis_info.parquet')"
   ]
  },
  {
   "cell_type": "code",
   "execution_count": 2,
   "id": "71fa9832",
   "metadata": {
    "execution": {
     "iopub.execute_input": "2024-10-26T03:32:56.574510Z",
     "iopub.status.busy": "2024-10-26T03:32:56.574134Z",
     "iopub.status.idle": "2024-10-26T03:32:56.593028Z",
     "shell.execute_reply": "2024-10-26T03:32:56.592011Z"
    },
    "papermill": {
     "duration": 0.02663,
     "end_time": "2024-10-26T03:32:56.595275",
     "exception": false,
     "start_time": "2024-10-26T03:32:56.568645",
     "status": "completed"
    },
    "tags": []
   },
   "outputs": [],
   "source": [
    "def apply_linear_corr(linear_corr,clean_signal):\n",
    "    linear_corr = np.flip(linear_corr, axis=0)\n",
    "    for x, y in itertools.product(\n",
    "                range(clean_signal.shape[1]), range(clean_signal.shape[2])\n",
    "            ):\n",
    "        poli = np.poly1d(linear_corr[:, x, y])\n",
    "        clean_signal[:, x, y] = poli(clean_signal[:, x, y])\n",
    "    return clean_signal\n",
    "\n",
    "def clean_dark(signal, dark, dt):\n",
    "    dark = np.tile(dark, (signal.shape[0], 1, 1))\n",
    "    signal -= dark* dt[:, np.newaxis, np.newaxis]\n",
    "    return signal\n",
    "\n",
    "def preproc_single(arg):\n",
    "    planet_id, sensor, binning = arg[0],arg[1],arg[2]\n",
    "    cut_inf, cut_sup = 39, 321\n",
    "    sensor_sizes_dict = {\"AIRS-CH0\":[[11250, 32, 356], [1, 32, cut_sup-cut_inf]], \"FGS1\":[[135000, 32, 32], [1, 32, 32]]}\n",
    "    binned_dict = {\"AIRS-CH0\":[11250 // binning // 2, 282], \"FGS1\":[135000 // binning // 2]}\n",
    "    linear_corr_dict = {\"AIRS-CH0\":(6, 32, 356), \"FGS1\":(6, 32, 32)}\n",
    "    planet_ids = adc_info.index\n",
    "    \n",
    "    feats = []\n",
    "#     for i, planet_id in tqdm(list(enumerate(planet_ids))):\n",
    "    signal = pd.read_parquet(f'../input/ariel-data-challenge-2024/{dataset}/{planet_id}/{sensor}_signal.parquet').to_numpy()\n",
    "    dark_frame = pd.read_parquet(f'../input/ariel-data-challenge-2024/{dataset}/' + str(planet_id) + '/' + sensor + '_calibration/dark.parquet', engine='pyarrow').to_numpy()\n",
    "    dead_frame = pd.read_parquet(f'../input/ariel-data-challenge-2024/{dataset}/' + str(planet_id) + '/' + sensor + '_calibration/dead.parquet', engine='pyarrow').to_numpy()\n",
    "    flat_frame = pd.read_parquet(f'../input/ariel-data-challenge-2024/{dataset}/' + str(planet_id) + '/' + sensor + '_calibration/flat.parquet', engine='pyarrow').to_numpy()\n",
    "    linear_corr = pd.read_parquet(f'../input/ariel-data-challenge-2024/{dataset}/' + str(planet_id) + '/' + sensor + '_calibration/linear_corr.parquet').values.astype(np.float64).reshape(linear_corr_dict[sensor])\n",
    "\n",
    "    signal = signal.reshape(sensor_sizes_dict[sensor][0]) \n",
    "    gain = adc_info.loc[planet_id,f'{sensor}_adc_gain']\n",
    "    offset = adc_info.loc[planet_id,f'{sensor}_adc_offset']\n",
    "    signal = signal / gain + offset\n",
    "\n",
    "    hot = sigma_clip(\n",
    "        dark_frame, sigma=5, maxiters=5\n",
    "    ).mask\n",
    "\n",
    "    if sensor != \"FGS1\":\n",
    "        signal = signal[:, :, cut_inf:cut_sup] \n",
    "        dt = np.ones(len(signal))*0.1 \n",
    "        dt[1::2] += 4.5 #@bilzard idea\n",
    "        linear_corr = linear_corr[:, :, cut_inf:cut_sup]\n",
    "        dark_frame = dark_frame[:, cut_inf:cut_sup]\n",
    "        dead_frame = dead_frame[:, cut_inf:cut_sup]\n",
    "        flat_frame = flat_frame[:, cut_inf:cut_sup]\n",
    "        hot = hot[:, cut_inf:cut_sup]\n",
    "    else:\n",
    "        dt = np.ones(len(signal))*0.1\n",
    "        dt[1::2] += 0.1\n",
    "\n",
    "    signal = signal.clip(0) #@graySnow idea\n",
    "    linear_corr_signal = apply_linear_corr(linear_corr, signal)\n",
    "    signal = clean_dark(linear_corr_signal, dark_frame, dt)\n",
    "\n",
    "    flat = flat_frame.reshape(sensor_sizes_dict[sensor][1])\n",
    "    flat[dead_frame.reshape(sensor_sizes_dict[sensor][1])] = np.nan\n",
    "    flat[hot.reshape(sensor_sizes_dict[sensor][1])] = np.nan\n",
    "    signal = signal / flat\n",
    "\n",
    "\n",
    "    if sensor == \"FGS1\":\n",
    "        signal = signal[:,10:22,10:22] # **** updates ****\n",
    "        signal = signal.reshape(sensor_sizes_dict[sensor][0][0],144) # # **** updates ****\n",
    "\n",
    "    if sensor != \"FGS1\":\n",
    "        signal = signal[:,10:22,:] # **** updates ****\n",
    "\n",
    "    mean_signal = np.nanmean(signal, axis=1) \n",
    "    cds_signal = (mean_signal[1::2] - 2*mean_signal[0::2])\n",
    "\n",
    "    binned = np.zeros((binned_dict[sensor]))\n",
    "    for j in range(cds_signal.shape[0] // binning):\n",
    "        binned[j] = cds_signal[j*binning:j*binning+binning].mean(axis=0) \n",
    "\n",
    "    if sensor == \"FGS1\":\n",
    "        binned = binned.reshape((binned.shape[0],1))\n",
    "\n",
    "    return binned"
   ]
  },
  {
   "cell_type": "code",
   "execution_count": 3,
   "id": "febf7834",
   "metadata": {
    "execution": {
     "iopub.execute_input": "2024-10-26T03:32:56.604797Z",
     "iopub.status.busy": "2024-10-26T03:32:56.604384Z",
     "iopub.status.idle": "2024-10-26T03:33:02.102895Z",
     "shell.execute_reply": "2024-10-26T03:33:02.101662Z"
    },
    "papermill": {
     "duration": 5.50626,
     "end_time": "2024-10-26T03:33:02.105589",
     "exception": false,
     "start_time": "2024-10-26T03:32:56.599329",
     "status": "completed"
    },
    "tags": []
   },
   "outputs": [
    {
     "name": "stderr",
     "output_type": "stream",
     "text": [
      "100%|██████████| 1/1 [00:05<00:00,  5.34s/it]\n"
     ]
    }
   ],
   "source": [
    "\n",
    "planet_ids = adc_info.index.tolist()\n",
    "pool = Pool(processes=4) \n",
    "args = [(xx, 'AIRS-CH0', 30) for xx in planet_ids]\n",
    "# dataset = \"train\"\n",
    "# adc_info = pd.read_csv(\n",
    "#     \"/kaggle/input/ariel-data-challenge-2024/\" + f\"{dataset}_adc_info.csv\",\n",
    "#     index_col=\"planet_id\",\n",
    "# )\n",
    "# axis_info = pd.read_parquet(\"/kaggle/input/ariel-data-challenge-2024/axis_info.parquet\")\n",
    "# planet_ids = adc_info.index\n",
    "\n",
    "\n"
   ]
  },
  {
   "cell_type": "code",
   "execution_count": null,
   "id": "3d6baa0c-baeb-4b69-a25d-e64bace920d4",
   "metadata": {},
   "outputs": [],
   "source": [
    "\n",
    "\n",
    "with mp.Pool(processes=4) as pool:\n",
    "    results = list(tqdm(pool.imap(preproc_single, args), total=len(args)))\n",
    "pre_train = np.stack(results)"
   ]
  },
  {
   "cell_type": "markdown",
   "id": "77ceec12",
   "metadata": {
    "papermill": {
     "duration": 0.003935,
     "end_time": "2024-10-26T03:33:02.113783",
     "exception": false,
     "start_time": "2024-10-26T03:33:02.109848",
     "status": "completed"
    },
    "tags": []
   },
   "source": [
    "# Calibration"
   ]
  },
  {
   "cell_type": "code",
   "execution_count": 4,
   "id": "5eb0f3cf",
   "metadata": {
    "execution": {
     "iopub.execute_input": "2024-10-26T03:33:02.124376Z",
     "iopub.status.busy": "2024-10-26T03:33:02.123309Z",
     "iopub.status.idle": "2024-10-26T03:33:02.183458Z",
     "shell.execute_reply": "2024-10-26T03:33:02.182396Z"
    },
    "papermill": {
     "duration": 0.068021,
     "end_time": "2024-10-26T03:33:02.185851",
     "exception": false,
     "start_time": "2024-10-26T03:33:02.117830",
     "status": "completed"
    },
    "tags": []
   },
   "outputs": [
    {
     "name": "stderr",
     "output_type": "stream",
     "text": [
      "100%|██████████| 1/1 [00:00<00:00, 22.04it/s]\n"
     ]
    }
   ],
   "source": [
    "def phase_detector(signal):\n",
    "    MIN = np.argmin(signal[30:140])+30\n",
    "    signal1 = signal[:MIN ]\n",
    "    signal2 = signal[MIN :]\n",
    "    first_derivative1 = np.gradient(signal1)\n",
    "    first_derivative1 /= first_derivative1.max()\n",
    "    first_derivative2 = np.gradient(signal2)\n",
    "    first_derivative2 /= first_derivative2.max()\n",
    "    phase1 = np.argmin(first_derivative1)\n",
    "    phase2 = np.argmax(first_derivative2) + MIN\n",
    "    return phase1, phase2\n",
    "\n",
    "def phase_detector(signal):\n",
    "    MIN = np.argmin(signal[30:140])+30\n",
    "    signal1 = signal[:MIN ]\n",
    "    signal2 = signal[MIN :]\n",
    "    first_derivative1 = np.gradient(signal1)\n",
    "    first_derivative1 /= first_derivative1.max()\n",
    "    first_derivative2 = np.gradient(signal2)\n",
    "    first_derivative2 /= first_derivative2.max()\n",
    "    phase1 = np.argmin(first_derivative1)\n",
    "    phase2 = np.argmax(first_derivative2) + MIN\n",
    "    return phase1, phase2\n",
    "    \n",
    "def objective(s):\n",
    "    \n",
    "    best_q = 1e10\n",
    "    for i in range(4) :\n",
    "        delta = 2\n",
    "        y = signal[:p1-delta].tolist() + \\\n",
    "                (signal[p1+delta:p2 - delta] * (1 + s)).tolist() + \\\n",
    "                signal[p2+delta:].tolist()\n",
    "        \n",
    "        x = list(range(len(y)))\n",
    "        z = np.polyfit(x, y, deg=i)\n",
    "        p = np.poly1d(z)\n",
    "        q = np.abs(p(x) - y).mean()\n",
    "    \n",
    "    if q < best_q :\n",
    "        best_q = q\n",
    "    \n",
    "    return q\n",
    "\n",
    "all_s = []\n",
    "p12 = []\n",
    "for i in tqdm(range(len(adc_info))):\n",
    "    \n",
    "    signal = pre_train[i,:,:].mean(axis=1)\n",
    "    p1,p2 = phase_detector(signal)\n",
    " \n",
    "    r = minimize(\n",
    "                objective,\n",
    "                [0.0001],\n",
    "                method= 'Nelder-Mead'\n",
    "                  )\n",
    "    s = r.x[0]\n",
    "    all_s.append(s)\n",
    "    p12.append([p1,p2])\n",
    "\n",
    "pred = np.repeat(np.array(all_s), 283).reshape((len(all_s), 283))    \n"
   ]
  },
  {
   "cell_type": "markdown",
   "id": "c20ba746",
   "metadata": {
    "papermill": {
     "duration": 0.004003,
     "end_time": "2024-10-26T03:33:02.194087",
     "exception": false,
     "start_time": "2024-10-26T03:33:02.190084",
     "status": "completed"
    },
    "tags": []
   },
   "source": [
    "# Modelization"
   ]
  },
  {
   "cell_type": "code",
   "execution_count": 5,
   "id": "7648322e",
   "metadata": {
    "execution": {
     "iopub.execute_input": "2024-10-26T03:33:02.204022Z",
     "iopub.status.busy": "2024-10-26T03:33:02.203632Z",
     "iopub.status.idle": "2024-10-26T03:33:02.496330Z",
     "shell.execute_reply": "2024-10-26T03:33:02.495326Z"
    },
    "papermill": {
     "duration": 0.300483,
     "end_time": "2024-10-26T03:33:02.498625",
     "exception": false,
     "start_time": "2024-10-26T03:33:02.198142",
     "status": "completed"
    },
    "tags": []
   },
   "outputs": [
    {
     "name": "stderr",
     "output_type": "stream",
     "text": [
      "100%|██████████| 10/10 [00:00<00:00, 35.50it/s]\n"
     ]
    }
   ],
   "source": [
    "\n",
    "all_s_again = []\n",
    "for ii in tqdm(range(10)):\n",
    "    useindex = np.array(range(max(ii*10,0),min(ii*10+200,282)))\n",
    "    tmp = []\n",
    "    for i in (range(len(adc_info))):\n",
    "        signal = pre_train[i,:,useindex].T.mean(axis=1)\n",
    "        try:\n",
    "            p1,p2 = phase_detector(signal)\n",
    "\n",
    "            r = minimize(\n",
    "                        objective,\n",
    "                        [0.0001],\n",
    "                        method= 'Nelder-Mead'\n",
    "                          )\n",
    "            s = r.x[0]\n",
    "        except:\n",
    "            s = all_s[i]\n",
    "        tmp.append(s)\n",
    "    all_s_again.append(tmp)    \n",
    "all_s_again = np.array(all_s_again)\n"
   ]
  },
  {
   "cell_type": "markdown",
   "id": "f0371025",
   "metadata": {
    "papermill": {
     "duration": 0.004354,
     "end_time": "2024-10-26T03:33:02.507602",
     "exception": false,
     "start_time": "2024-10-26T03:33:02.503248",
     "status": "completed"
    },
    "tags": []
   },
   "source": [
    "# Predictions with Ridge model"
   ]
  },
  {
   "cell_type": "code",
   "execution_count": 6,
   "id": "28facb6d",
   "metadata": {
    "execution": {
     "iopub.execute_input": "2024-10-26T03:33:02.518369Z",
     "iopub.status.busy": "2024-10-26T03:33:02.517990Z",
     "iopub.status.idle": "2024-10-26T03:33:02.528815Z",
     "shell.execute_reply": "2024-10-26T03:33:02.527769Z"
    },
    "papermill": {
     "duration": 0.01874,
     "end_time": "2024-10-26T03:33:02.530845",
     "exception": false,
     "start_time": "2024-10-26T03:33:02.512105",
     "status": "completed"
    },
    "tags": []
   },
   "outputs": [
    {
     "data": {
      "text/plain": [
       "(array([[9.13625056e-06, 9.13625056e-06, 9.13625056e-06, 9.13625056e-06]]),\n",
       " 0.002727272727272733)"
      ]
     },
     "execution_count": 6,
     "metadata": {},
     "output_type": "execute_result"
    }
   ],
   "source": [
    "all_s_again2 = np.concatenate([np.array(all_s).reshape(1,-1),all_s_again])\n",
    "pred = np.repeat(all_s_again2.mean(axis=0), 283).reshape((len(all_s), 283)) \n",
    "sigma = np.repeat(all_s_again2.std(axis=0), 283).reshape((len(all_s), 283))\n",
    "sigma[:,:4],pred[0][0]"
   ]
  },
  {
   "cell_type": "code",
   "execution_count": 7,
   "id": "e0c5d4b0",
   "metadata": {
    "execution": {
     "iopub.execute_input": "2024-10-26T03:33:02.542407Z",
     "iopub.status.busy": "2024-10-26T03:33:02.542002Z",
     "iopub.status.idle": "2024-10-26T03:33:02.546623Z",
     "shell.execute_reply": "2024-10-26T03:33:02.545574Z"
    },
    "papermill": {
     "duration": 0.013005,
     "end_time": "2024-10-26T03:33:02.548722",
     "exception": false,
     "start_time": "2024-10-26T03:33:02.535717",
     "status": "completed"
    },
    "tags": []
   },
   "outputs": [],
   "source": [
    "# model = joblib.load(\"/kaggle/input/adc24-meta-model-ridge/model_ridge_10_22_delta2.joblib\")\n",
    "# pred = model.predict(all_s)\n",
    "# pd.DataFrame(pred)\n",
    "# import pickle\n",
    "# with open('/kaggle/input/ad24-train-inf-ridge-addfe-lb-441/model.pickle', 'rb') as f:\n",
    "#     model = pickle.load(f)\n",
    "# pred = model.predict(all_s)\n",
    "# pd.DataFrame(pred)"
   ]
  },
  {
   "cell_type": "code",
   "execution_count": null,
   "id": "d14c2fdb-7ce4-49d1-b13e-5dbf03658c6c",
   "metadata": {},
   "outputs": [],
   "source": [
    "try:\n",
    "    for wave, scale in wave_to_apriori_scale.items():\n",
    "        # scale s\n",
    "        if 0.99 < scale < 1.01:\n",
    "            scale = 1.0\n",
    "        if wave in ['wl_2']:\n",
    "            scale = 0.99\n",
    "        if wave in ['wl_133', 'wl_134']:\n",
    "            scale = 1.01\n",
    "        scale = np.clip(scale, 0.993, 1.007)\n",
    "        submission[wave] *= scale\n",
    "\n",
    "        # scale sigma\n",
    "        wl_idx = wave.split('_')[-1]\n",
    "        scale = 1.0 + 28.0 * (scale - 1.0)\n",
    "        assert 1 <= int(wl_idx) <= 283\n",
    "        submission['sigma_' + wl_idx] *= scale\n",
    "except:\n",
    "    1"
   ]
  },
  {
   "cell_type": "markdown",
   "id": "273d901d",
   "metadata": {
    "papermill": {
     "duration": 0.004643,
     "end_time": "2024-10-26T03:33:02.558121",
     "exception": false,
     "start_time": "2024-10-26T03:33:02.553478",
     "status": "completed"
    },
    "tags": []
   },
   "source": [
    "# Submission"
   ]
  },
  {
   "cell_type": "code",
   "execution_count": 8,
   "id": "86eb3974",
   "metadata": {
    "execution": {
     "iopub.execute_input": "2024-10-26T03:33:02.568772Z",
     "iopub.status.busy": "2024-10-26T03:33:02.568377Z",
     "iopub.status.idle": "2024-10-26T03:33:02.619843Z",
     "shell.execute_reply": "2024-10-26T03:33:02.618803Z"
    },
    "papermill": {
     "duration": 0.059439,
     "end_time": "2024-10-26T03:33:02.622117",
     "exception": false,
     "start_time": "2024-10-26T03:33:02.562678",
     "status": "completed"
    },
    "tags": []
   },
   "outputs": [
    {
     "data": {
      "text/html": [
       "<div>\n",
       "<style scoped>\n",
       "    .dataframe tbody tr th:only-of-type {\n",
       "        vertical-align: middle;\n",
       "    }\n",
       "\n",
       "    .dataframe tbody tr th {\n",
       "        vertical-align: top;\n",
       "    }\n",
       "\n",
       "    .dataframe thead th {\n",
       "        text-align: right;\n",
       "    }\n",
       "</style>\n",
       "<table border=\"1\" class=\"dataframe\">\n",
       "  <thead>\n",
       "    <tr style=\"text-align: right;\">\n",
       "      <th></th>\n",
       "      <th>wl_1</th>\n",
       "      <th>wl_2</th>\n",
       "      <th>wl_3</th>\n",
       "      <th>wl_4</th>\n",
       "      <th>wl_5</th>\n",
       "      <th>wl_6</th>\n",
       "      <th>wl_7</th>\n",
       "      <th>wl_8</th>\n",
       "      <th>wl_9</th>\n",
       "      <th>wl_10</th>\n",
       "      <th>...</th>\n",
       "      <th>sigma_274</th>\n",
       "      <th>sigma_275</th>\n",
       "      <th>sigma_276</th>\n",
       "      <th>sigma_277</th>\n",
       "      <th>sigma_278</th>\n",
       "      <th>sigma_279</th>\n",
       "      <th>sigma_280</th>\n",
       "      <th>sigma_281</th>\n",
       "      <th>sigma_282</th>\n",
       "      <th>sigma_283</th>\n",
       "    </tr>\n",
       "    <tr>\n",
       "      <th>planet_id</th>\n",
       "      <th></th>\n",
       "      <th></th>\n",
       "      <th></th>\n",
       "      <th></th>\n",
       "      <th></th>\n",
       "      <th></th>\n",
       "      <th></th>\n",
       "      <th></th>\n",
       "      <th></th>\n",
       "      <th></th>\n",
       "      <th></th>\n",
       "      <th></th>\n",
       "      <th></th>\n",
       "      <th></th>\n",
       "      <th></th>\n",
       "      <th></th>\n",
       "      <th></th>\n",
       "      <th></th>\n",
       "      <th></th>\n",
       "      <th></th>\n",
       "      <th></th>\n",
       "    </tr>\n",
       "  </thead>\n",
       "  <tbody>\n",
       "    <tr>\n",
       "      <th>499191466</th>\n",
       "      <td>0.002727</td>\n",
       "      <td>0.002727</td>\n",
       "      <td>0.002727</td>\n",
       "      <td>0.002727</td>\n",
       "      <td>0.002727</td>\n",
       "      <td>0.002727</td>\n",
       "      <td>0.002727</td>\n",
       "      <td>0.002727</td>\n",
       "      <td>0.002727</td>\n",
       "      <td>0.002727</td>\n",
       "      <td>...</td>\n",
       "      <td>0.000032</td>\n",
       "      <td>0.000032</td>\n",
       "      <td>0.000032</td>\n",
       "      <td>0.000032</td>\n",
       "      <td>0.000032</td>\n",
       "      <td>0.000032</td>\n",
       "      <td>0.000032</td>\n",
       "      <td>0.000032</td>\n",
       "      <td>0.000032</td>\n",
       "      <td>0.000032</td>\n",
       "    </tr>\n",
       "  </tbody>\n",
       "</table>\n",
       "<p>1 rows × 566 columns</p>\n",
       "</div>"
      ],
      "text/plain": [
       "               wl_1      wl_2      wl_3      wl_4      wl_5      wl_6  \\\n",
       "planet_id                                                               \n",
       "499191466  0.002727  0.002727  0.002727  0.002727  0.002727  0.002727   \n",
       "\n",
       "               wl_7      wl_8      wl_9     wl_10  ...  sigma_274  sigma_275  \\\n",
       "planet_id                                          ...                         \n",
       "499191466  0.002727  0.002727  0.002727  0.002727  ...   0.000032   0.000032   \n",
       "\n",
       "           sigma_276  sigma_277  sigma_278  sigma_279  sigma_280  sigma_281  \\\n",
       "planet_id                                                                     \n",
       "499191466   0.000032   0.000032   0.000032   0.000032   0.000032   0.000032   \n",
       "\n",
       "           sigma_282  sigma_283  \n",
       "planet_id                        \n",
       "499191466   0.000032   0.000032  \n",
       "\n",
       "[1 rows x 566 columns]"
      ]
     },
     "execution_count": 8,
     "metadata": {},
     "output_type": "execute_result"
    }
   ],
   "source": [
    "sub = pd.read_csv('../input/ariel-data-challenge-2024/sample_submission.csv')\n",
    "sigma_new = (sigma*3.58).clip(0.00001)\n",
    "pred = pred.clip(0) \n",
    "submission = pd.DataFrame(np.concatenate([pred,sigma_new], axis=1), columns=sub.columns[1:])\n",
    "submission.index = adc_info.index\n",
    "submission.to_csv('submission.csv')\n",
    "submission"
   ]
  }
 ],
 "metadata": {
  "kaggle": {
   "accelerator": "none",
   "dataSources": [
    {
     "databundleVersionId": 9188054,
     "sourceId": 70367,
     "sourceType": "competition"
    },
    {
     "datasetId": 5628160,
     "sourceId": 9331726,
     "sourceType": "datasetVersion"
    },
    {
     "sourceId": 196522559,
     "sourceType": "kernelVersion"
    }
   ],
   "dockerImageVersionId": 30761,
   "isGpuEnabled": false,
   "isInternetEnabled": false,
   "language": "python",
   "sourceType": "notebook"
  },
  "kernelspec": {
   "display_name": "Python 3 (ipykernel)",
   "language": "python",
   "name": "python3"
  },
  "language_info": {
   "codemirror_mode": {
    "name": "ipython",
    "version": 3
   },
   "file_extension": ".py",
   "mimetype": "text/x-python",
   "name": "python",
   "nbconvert_exporter": "python",
   "pygments_lexer": "ipython3",
   "version": "3.10.8"
  },
  "papermill": {
   "default_parameters": {},
   "duration": 12.832367,
   "end_time": "2024-10-26T03:33:03.247835",
   "environment_variables": {},
   "exception": null,
   "input_path": "__notebook__.ipynb",
   "output_path": "__notebook__.ipynb",
   "parameters": {},
   "start_time": "2024-10-26T03:32:50.415468",
   "version": "2.6.0"
  }
 },
 "nbformat": 4,
 "nbformat_minor": 5
}
