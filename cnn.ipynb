{
 "cells": [
  {
   "cell_type": "code",
   "execution_count": 1,
   "metadata": {
    "_cell_guid": "b1076dfc-b9ad-4769-8c92-a6c4dae69d19",
    "_uuid": "8f2839f25d086af736a60e9eeb907d3b93b6e0e5"
   },
   "outputs": [],
   "source": [
    "import pandas as pd\n",
    "import matplotlib.pyplot as plt\n",
    "import numpy as np\n",
    "import seaborn as sns\n",
    "import scipy.stats\n",
    "from tqdm import tqdm\n",
    "\n",
    "from sklearn.model_selection import cross_val_predict\n",
    "from sklearn.linear_model import Ridge\n",
    "from sklearn.metrics import r2_score, mean_squared_error\n",
    "import torch\n",
    "import torch.nn as nn\n",
    "import torch.nn.functional as F\n",
    "from fastprogress import master_bar, progress_bar\n",
    "from torch.optim import Adam\n",
    "from torch.optim.lr_scheduler import CosineAnnealingLR\n",
    "from torch.utils.data import Dataset, DataLoader\n",
    "from torchvision.transforms import transforms\n",
    "import torchvision.models as models\n",
    "from torchvision.models.efficientnet import _efficientnet_conf, _efficientnet\n",
    "from functools import partial\n",
    "import random, os\n",
    "\n",
    "def seed_everything(seed: int):\n",
    "    random.seed(seed)\n",
    "    os.environ['PYTHONHASHSEED'] = str(seed)\n",
    "    np.random.seed(seed)\n",
    "    torch.manual_seed(seed)\n",
    "    torch.cuda.manual_seed(seed)\n",
    "    torch.backends.cudnn.deterministic = True\n",
    "    torch.backends.cudnn.benchmark = False\n",
    "    \n",
    "seed_everything(42)"
   ]
  },
  {
   "cell_type": "markdown",
   "metadata": {},
   "source": [
    "## Metric"
   ]
  },
  {
   "cell_type": "code",
   "execution_count": 2,
   "metadata": {},
   "outputs": [],
   "source": [
    "class ParticipantVisibleError(Exception):\n",
    "    pass\n",
    "def ariel_score(\n",
    "        solution,\n",
    "        submission,\n",
    "        naive_mean,\n",
    "        naive_sigma,\n",
    "        sigma_true\n",
    "    ):\n",
    "    '''\n",
    "    This is a Gaussian Log Likelihood based metric. For a submission, which contains the predicted mean (x_hat) and variance (x_hat_std),\n",
    "    we calculate the Gaussian Log-likelihood (GLL) value to the provided ground truth (x). We treat each pair of x_hat,\n",
    "    x_hat_std as a 1D gaussian, meaning there will be 283 1D gaussian distributions, hence 283 values for each test spectrum,\n",
    "    the GLL value for one spectrum is the sum of all of them.\n",
    "\n",
    "    Inputs:\n",
    "        - solution: Ground Truth spectra (from test set)\n",
    "            - shape: (nsamples, n_wavelengths)\n",
    "        - submission: Predicted spectra and errors (from participants)\n",
    "            - shape: (nsamples, n_wavelengths*2)\n",
    "        naive_mean: (float) mean from the train set.\n",
    "        naive_sigma: (float) standard deviation from the train set.\n",
    "        sigma_true: (float) essentially sets the scale of the outputs.\n",
    "    '''\n",
    "\n",
    "    if submission.min() < 0:\n",
    "        raise ParticipantVisibleError('Negative values in the submission')\n",
    "\n",
    "    n_wavelengths = 283\n",
    "\n",
    "    y_pred = submission[:, :n_wavelengths]\n",
    "    # Set a non-zero minimum sigma pred to prevent division by zero errors.\n",
    "    sigma_pred = np.clip(submission[:, n_wavelengths:], a_min=10**-15, a_max=None)\n",
    "    y_true = solution\n",
    "\n",
    "    GLL_pred = np.sum(scipy.stats.norm.logpdf(y_true, loc=y_pred, scale=sigma_pred))\n",
    "    GLL_true = np.sum(scipy.stats.norm.logpdf(y_true, loc=y_true, scale=sigma_true * np.ones_like(y_true)))\n",
    "    GLL_mean = np.sum(scipy.stats.norm.logpdf(y_true, loc=naive_mean * np.ones_like(y_true), scale=naive_sigma * np.ones_like(y_true)))\n",
    "\n",
    "    #print(GLL_pred, GLL_true, GLL_mean)\n",
    "    submit_score = (GLL_pred - GLL_mean)/(GLL_true - GLL_mean)\n",
    "    return submit_score #float(np.clip(submit_score, 0.0, 1.0))"
   ]
  },
  {
   "cell_type": "markdown",
   "metadata": {},
   "source": [
    "## Raw data binned 15 time measurements\n",
    "\n",
    "Unfortunately, I have lost the exact code that I received the dataset with, I really hope that it matches the one in the inference notebook."
   ]
  },
  {
   "cell_type": "code",
   "execution_count": 3,
   "metadata": {},
   "outputs": [],
   "source": [
    "train_adc_info = pd.read_csv('../input/ariel-data-challenge-2024/train_adc_info.csv',\n",
    "                           index_col='planet_id')\n",
    "train_labels = pd.read_csv('../input/ariel-data-challenge-2024/train_labels.csv',\n",
    "                           index_col='planet_id')\n",
    "\n",
    "# pre_train = np.load('./ariel_calibrated_train.npy')\n",
    "pre_train = pd.read_pickle('../input/pre_train.pkl')"
   ]
  },
  {
   "cell_type": "code",
   "execution_count": 4,
   "metadata": {},
   "outputs": [
    {
     "data": {
      "text/plain": [
       "(673, 187, 283)"
      ]
     },
     "execution_count": 4,
     "metadata": {},
     "output_type": "execute_result"
    }
   ],
   "source": [
    "pre_train.shape"
   ]
  },
  {
   "cell_type": "markdown",
   "metadata": {},
   "source": [
    "## Transit phase detector\n",
    "\n",
    "A simple algorithm for finding points where there is a rapid drop in luminosity"
   ]
  },
  {
   "cell_type": "code",
   "execution_count": 5,
   "metadata": {},
   "outputs": [],
   "source": [
    "def phase_detector(signal):\n",
    "    \n",
    "    MIN = np.argmin(signal[30:140])+30\n",
    "    signal1 = signal[:MIN ]\n",
    "    signal2 = signal[MIN :]\n",
    "\n",
    "    first_derivative1 = np.gradient(signal1)\n",
    "    first_derivative1 /= first_derivative1.max()\n",
    "    first_derivative2 = np.gradient(signal2)\n",
    "    first_derivative2 /= first_derivative2.max()\n",
    "\n",
    "    phase1 = np.argmin(first_derivative1)\n",
    "    phase2 = np.argmax(first_derivative2) + MIN\n",
    "\n",
    "    return phase1, phase2"
   ]
  },
  {
   "cell_type": "code",
   "execution_count": 6,
   "metadata": {},
   "outputs": [
    {
     "name": "stderr",
     "output_type": "stream",
     "text": [
      "100%|██████████| 673/673 [00:10<00:00, 63.15it/s]\n"
     ]
    }
   ],
   "source": [
    "\n",
    "from scipy.optimize import minimize\n",
    "from scipy import optimize\n",
    "\n",
    "def objective(s):\n",
    "    \n",
    "    best_q = 1e10\n",
    "    for i in range(4) :\n",
    "        delta = 2\n",
    "        x = list(range(signal.shape[0]-delta*4))\n",
    "        y = signal[:p1-delta].tolist() + (signal[p1+delta:p2 - delta] * (1 + s)).tolist() + signal[p2+delta:].tolist()\n",
    "        \n",
    "        z = np.polyfit(x, y, deg=i)\n",
    "        p = np.poly1d(z)\n",
    "        q = np.abs(p(x) - y).mean()\n",
    "    \n",
    "    if q < best_q :\n",
    "        best_q = q\n",
    "    \n",
    "    return q\n",
    "\n",
    "\n",
    "all_s = []\n",
    "for i in tqdm(range(len(train_adc_info))):\n",
    "    \n",
    "    signal = pre_train[i,:,1:].mean(axis=1)\n",
    "    p1,p2 = phase_detector(signal)\n",
    " \n",
    "    r = minimize(\n",
    "                objective,\n",
    "                [0.0001],\n",
    "                method= 'Nelder-Mead'\n",
    "                  )\n",
    "    s = r.x[0]\n",
    "    all_s.append(s)\n",
    "    \n",
    "pred_0 = np.repeat(np.array(all_s), 283).reshape((len(all_s), 283))      "
   ]
  },
  {
   "cell_type": "markdown",
   "metadata": {},
   "source": [
    "## Dataset\n",
    "We will use (flux - flux_transit) / flux_star as features. If we didn't have a distortion of the star's light, then our targets would be exactly among these signs."
   ]
  },
  {
   "cell_type": "code",
   "execution_count": 7,
   "metadata": {},
   "outputs": [],
   "source": [
    "train = pre_train.copy()\n",
    "for i in range(len(train_adc_info)):\n",
    "    p1,p2 = phase_detector(pre_train[i,:,1:].mean(axis=1))\n",
    "    train[i] = (train[i] - pre_train[i,p1:p2].mean(axis=0)) / pre_train[i,list(range(p1-2)) + list(range(p2+2,187))].mean(axis=0) * 1000.0"
   ]
  },
  {
   "cell_type": "code",
   "execution_count": 8,
   "metadata": {},
   "outputs": [
    {
     "data": {
      "text/plain": [
       "(673, 188, 283)"
      ]
     },
     "execution_count": 8,
     "metadata": {},
     "output_type": "execute_result"
    }
   ],
   "source": [
    "train = np.concatenate([train,pred_0.reshape(-1,1,283)*1000],axis=1)\n",
    "train.shape"
   ]
  },
  {
   "cell_type": "code",
   "execution_count": 9,
   "metadata": {},
   "outputs": [
    {
     "data": {
      "text/plain": [
       "(188,)"
      ]
     },
     "execution_count": 9,
     "metadata": {},
     "output_type": "execute_result"
    }
   ],
   "source": [
    "np.mean(np.mean(train,axis=0),axis=1).shape"
   ]
  },
  {
   "cell_type": "code",
   "execution_count": 10,
   "metadata": {},
   "outputs": [
    {
     "data": {
      "text/plain": [
       "array([ 2.47505273,  2.48702091,  2.48805286,  2.48753773,  2.48063764,\n",
       "        2.47541207,  2.48598967,  2.4785061 ,  2.48834143,  2.48047202,\n",
       "        2.47882843,  2.48535689,  2.48105735,  2.48488807,  2.48156812,\n",
       "        2.48374713,  2.48449809,  2.47702653,  2.484103  ,  2.47962473,\n",
       "        2.48618634,  2.48734055,  2.47968715,  2.48444987,  2.48364117,\n",
       "        2.48565235,  2.47796641,  2.47818333,  2.48380245,  2.48342364,\n",
       "        2.48753323,  2.47724692,  2.47840724,  2.4816517 ,  2.4805624 ,\n",
       "        2.47769576,  2.48345254,  2.48242845,  2.48136052,  2.47964103,\n",
       "        2.47919058,  2.48500363,  2.48433115,  2.48019316,  2.47948694,\n",
       "        2.4834817 ,  2.48239308,  2.48270309,  2.48078492,  2.48187698,\n",
       "        2.48371401,  2.48053075,  2.47807532,  2.48000765,  2.47363198,\n",
       "        2.46111745,  2.43832477,  2.39936341,  2.25968223,  1.90402427,\n",
       "        1.34469699,  0.76360548,  0.32755752,  0.12145955,  0.05207223,\n",
       "        0.02505049,  0.00774609, -0.01600226, -0.02911347, -0.04884597,\n",
       "       -0.04814649, -0.05020751, -0.05746984, -0.05099401, -0.04921021,\n",
       "       -0.0487744 , -0.0565498 , -0.0527679 , -0.0450282 , -0.05646373,\n",
       "       -0.05168047, -0.05103282, -0.05437498, -0.0540239 , -0.05296739,\n",
       "       -0.04828635, -0.0531984 , -0.04779304, -0.04874764, -0.04975282,\n",
       "       -0.05466518, -0.05221453, -0.04283153, -0.04446008, -0.05274041,\n",
       "       -0.0499442 , -0.04695787, -0.04213537, -0.04027072, -0.04987869,\n",
       "       -0.0447979 , -0.04187655, -0.04488937, -0.04947013, -0.042232  ,\n",
       "       -0.04294967, -0.04204854, -0.04384291, -0.04510171, -0.043594  ,\n",
       "       -0.03490925, -0.03822235, -0.04293397, -0.03537587, -0.03680334,\n",
       "       -0.04330717, -0.04184371, -0.03602888, -0.02591869, -0.01477371,\n",
       "        0.00798908,  0.03709905,  0.07543053,  0.11814871,  0.24916613,\n",
       "        0.56935586,  1.10593453,  1.69544574,  2.14371517,  2.37007223,\n",
       "        2.43692863,  2.46284385,  2.48479746,  2.49729696,  2.50420819,\n",
       "        2.50635244,  2.50058548,  2.5062938 ,  2.51513549,  2.50902047,\n",
       "        2.50497523,  2.51295955,  2.50638278,  2.5227948 ,  2.50578338,\n",
       "        2.50859594,  2.51120424,  2.51125109,  2.50934096,  2.51209738,\n",
       "        2.51362849,  2.50972356,  2.51348718,  2.5179641 ,  2.5128767 ,\n",
       "        2.51483712,  2.5161829 ,  2.5151979 ,  2.51482527,  2.52321434,\n",
       "        2.51964981,  2.51866725,  2.5149813 ,  2.51598169,  2.51575417,\n",
       "        2.51921342,  2.51595571,  2.5209394 ,  2.51835454,  2.5221841 ,\n",
       "        2.52170493,  2.52612966,  2.52433492,  2.5174075 ,  2.52331646,\n",
       "        2.52527561,  2.52879949,  2.53131454,  2.52856103,  2.52847835,\n",
       "        2.52853915,  2.53249808,  2.52999729,  2.52469499,  2.53343672,\n",
       "        2.53209614,  2.53436848,  2.53429049])"
      ]
     },
     "execution_count": 10,
     "metadata": {},
     "output_type": "execute_result"
    }
   ],
   "source": [
    "np.mean(np.mean(train,axis=0),axis=1)"
   ]
  },
  {
   "cell_type": "code",
   "execution_count": 11,
   "metadata": {},
   "outputs": [
    {
     "data": {
      "text/plain": [
       "(673, 188, 283)"
      ]
     },
     "execution_count": 11,
     "metadata": {},
     "output_type": "execute_result"
    }
   ],
   "source": [
    "train.shape"
   ]
  },
  {
   "cell_type": "code",
   "execution_count": 20,
   "metadata": {},
   "outputs": [
    {
     "data": {
      "text/plain": [
       "<matplotlib.lines.Line2D at 0x7f365029fb20>"
      ]
     },
     "execution_count": 20,
     "metadata": {},
     "output_type": "execute_result"
    },
    {
     "data": {
      "image/png": "[encoded data removed]",
      "text/plain": [
       "<Figure size 640x480 with 1 Axes>"
      ]
     },
     "metadata": {},
     "output_type": "display_data"
    }
   ],
   "source": [
    "n = 532\n",
    "# plt.plot(pre_train[n,:,1:].mean(axis=1))\n",
    "p1, p2 = phase_detector(pre_train[n,:,1:].mean(axis=1))\n",
    "plt.axvline(p1)\n",
    "plt.axvline(p2)\n",
    "plt.plot(train[n,:187,1:].mean(axis=1))\n",
    "plt.axhline(train[n,:,1:].mean(axis=1)[-1])"
   ]
  },
  {
   "cell_type": "markdown",
   "metadata": {},
   "source": [
    "## Model \n",
    "As a model, I use MobileNet_v2 as the least overfitting. Initially, it accepts a 3-channel image as input, so I added a layer that converts the input into a three-channel one.\n",
    "\n",
    "The output has 3 numbers for each wavelength corresponding to 0.1587,0.5,0.8413 percentiles."
   ]
  },
  {
   "cell_type": "code",
   "execution_count": 13,
   "metadata": {},
   "outputs": [],
   "source": [
    "\n",
    "def create_model_mnet2():\n",
    "    model = models.mobilenet_v3_small(dropout=0.0, norm_layer = nn.Identity)\n",
    "    model.features[0][0] = nn.Conv2d(3, 16, kernel_size=(3, 3), stride=(2, 2), padding=(1, 1), bias=False)\n",
    "    model.classifier[3] = nn.Linear(in_features=1024, out_features=283*3, bias=True)\n",
    "    return model\n",
    "\n",
    "class ImpModel(torch.nn.Module):\n",
    "    def __init__(self):\n",
    "        super(ImpModel, self).__init__()\n",
    "\n",
    "        self.filter = nn.Sequential(\n",
    "            nn.Conv2d(1, 3, kernel_size=(3,1), stride = (2,1), bias=False),\n",
    "            nn.LeakyReLU()\n",
    "        )\n",
    "        self.model_1d = create_model_mnet2()\n",
    "        \n",
    "    def forward(self, x):\n",
    "        x = self.filter(x)\n",
    "        x = self.model_1d(x)\n",
    "        return x"
   ]
  },
  {
   "cell_type": "markdown",
   "metadata": {},
   "source": [
    "## Loss\n",
    "This loss function predicts not only the value itself, but also its two percentiles. With their help, assuming that the error is distributed normally, we can get an estimate of the standard deviation.\n",
    "\n",
    "https://www.kaggle.com/code/vyacheslavefimov/quantile-loss-quantile-regression"
   ]
  },
  {
   "cell_type": "code",
   "execution_count": 14,
   "metadata": {},
   "outputs": [],
   "source": [
    "def q_loss(quantiles, y_pred, target):\n",
    "    losses = []\n",
    "    for i, q in enumerate(quantiles):        \n",
    "        errors = target - y_pred[..., i]\n",
    "        losses.append(torch.max((q - 1) * errors, q * errors).unsqueeze(-1))\n",
    "    losses = 2 * torch.cat(losses, dim=2)\n",
    "\n",
    "    return losses\n"
   ]
  },
  {
   "cell_type": "code",
   "execution_count": 15,
   "metadata": {},
   "outputs": [],
   "source": [
    "from sklearn.model_selection import KFold\n",
    "\n",
    "kf = KFold(n_splits=5)\n",
    "X = list(range(len(train)))"
   ]
  },
  {
   "cell_type": "code",
   "execution_count": null,
   "metadata": {},
   "outputs": [],
   "source": [
    "oof_pred = np.zeros_like(train_labels.values)\n",
    "oof_sigmas = np.zeros_like(train_labels.values)\n"
   ]
  },
  {
   "cell_type": "code",
   "execution_count": 23,
   "metadata": {},
   "outputs": [
    {
     "name": "stdout",
     "output_type": "stream",
     "text": [
      "test_index: [135 136 137 138 139 140 141 142 143 144 145 146 147 148 149 150 151 152\n",
      " 153 154 155 156 157 158 159 160 161 162 163 164 165 166 167 168 169 170\n",
      " 171 172 173 174 175 176 177 178 179 180 181 182 183 184 185 186 187 188\n",
      " 189 190 191 192 193 194 195 196 197 198 199 200 201 202 203 204 205 206\n",
      " 207 208 209 210 211 212 213 214 215 216 217 218 219 220 221 222 223 224\n",
      " 225 226 227 228 229 230 231 232 233 234 235 236 237 238 239 240 241 242\n",
      " 243 244 245 246 247 248 249 250 251 252 253 254 255 256 257 258 259 260\n",
      " 261 262 263 264 265 266 267 268 269]\n",
      "fold 1 epoch 0 train 0.561 valid 0.243 metric -49.756\n",
      "fold 1 epoch 1 train 0.161 valid 0.117 metric -19.108\n",
      "fold 1 epoch 2 train 0.112 valid 0.098 metric -13.126\n",
      "fold 1 epoch 3 train 0.103 valid 0.095 metric -13.337\n",
      "fold 1 epoch 4 train 0.101 valid 0.093 metric -15.321\n",
      "fold 1 epoch 5 train 0.1 valid 0.1 metric -12.613\n",
      "fold 1 epoch 6 train 0.104 valid 0.098 metric -13.394\n",
      "fold 1 epoch 7 train 0.104 valid 0.097 metric -13.718\n",
      "fold 1 epoch 8 train 0.103 valid 0.097 metric -13.137\n",
      "fold 1 epoch 9 train 0.103 valid 0.107 metric -14.01\n",
      "fold 1 epoch 10 train 0.104 valid 0.097 metric -13.055\n",
      "fold 1 epoch 11 train 0.103 valid 0.094 metric -14.17\n",
      "fold 1 epoch 12 train 0.102 valid 0.099 metric -12.615\n",
      "fold 1 epoch 13 train 0.102 valid 0.098 metric -14.175\n",
      "fold 1 epoch 14 train 0.102 valid 0.095 metric -13.362\n",
      "fold 1 epoch 15 train 0.107 valid 0.094 metric -14.053\n",
      "fold 1 epoch 16 train 0.104 valid 0.095 metric -13.036\n",
      "fold 1 epoch 17 train 0.102 valid 0.098 metric -13.264\n",
      "fold 1 epoch 18 train 0.104 valid 0.093 metric -14.164\n",
      "fold 1 epoch 19 train 0.102 valid 0.094 metric -14.513\n",
      "fold 1 epoch 20 train 0.103 valid 0.095 metric -13.105\n",
      "fold 1 epoch 21 train 0.102 valid 0.096 metric -13.897\n",
      "fold 1 epoch 22 train 0.102 valid 0.097 metric -14.416\n",
      "fold 1 epoch 23 train 0.102 valid 0.097 metric -14.052\n",
      "fold 1 epoch 24 train 0.102 valid 0.096 metric -12.726\n",
      "fold 1 epoch 25 train 0.103 valid 0.098 metric -12.589\n",
      "fold 1 epoch 26 train 0.102 valid 0.092 metric -13.217\n",
      "fold 1 epoch 27 train 0.101 valid 0.091 metric -13.577\n",
      "fold 1 epoch 28 train 0.101 valid 0.103 metric -12.97\n",
      "fold 1 epoch 29 train 0.102 valid 0.098 metric -12.608\n",
      "fold 1 epoch 30 train 0.102 valid 0.091 metric -13.419\n",
      "fold 1 epoch 31 train 0.105 valid 0.093 metric -16.039\n",
      "fold 1 epoch 32 train 0.103 valid 0.096 metric -13.653\n",
      "fold 1 epoch 33 train 0.102 valid 0.094 metric -12.717\n",
      "fold 1 epoch 34 train 0.102 valid 0.097 metric -12.826\n",
      "fold 1 epoch 35 train 0.102 valid 0.093 metric -12.954\n",
      "fold 1 epoch 36 train 0.102 valid 0.094 metric -12.724\n",
      "fold 1 epoch 37 train 0.101 valid 0.095 metric -12.893\n",
      "fold 1 epoch 38 train 0.102 valid 0.101 metric -13.043\n",
      "fold 1 epoch 39 train 0.102 valid 0.095 metric -12.676\n",
      "fold 1 epoch 40 train 0.101 valid 0.098 metric -12.474\n",
      "fold 1 epoch 41 train 0.104 valid 0.093 metric -14.139\n",
      "fold 1 epoch 42 train 0.102 valid 0.094 metric -15.016\n",
      "fold 1 epoch 43 train 0.101 valid 0.095 metric -12.912\n",
      "fold 1 epoch 44 train 0.101 valid 0.092 metric -13.812\n",
      "fold 1 epoch 45 train 0.102 valid 0.103 metric -12.963\n",
      "fold 1 epoch 46 train 0.104 valid 0.101 metric -12.835\n",
      "fold 1 epoch 47 train 0.101 valid 0.091 metric -14.677\n",
      "fold 1 epoch 48 train 0.102 valid 0.094 metric -13.242\n",
      "fold 1 epoch 49 train 0.102 valid 0.099 metric -13.308\n",
      "fold 1 epoch 50 train 0.102 valid 0.092 metric -13.443\n",
      "fold 1 epoch 51 train 0.103 valid 0.099 metric -12.439\n",
      "fold 1 epoch 52 train 0.101 valid 0.094 metric -12.83\n",
      "fold 1 epoch 53 train 0.1 valid 0.097 metric -12.263\n",
      "fold 1 epoch 54 train 0.091 valid 0.083 metric -3.676\n",
      "fold 1 epoch 55 train 0.06 valid 0.053 metric -2.364\n",
      "fold 1 epoch 56 train 0.041 valid 0.044 metric -1.675\n",
      "fold 1 epoch 57 train 0.033 valid 0.023 metric -0.027\n",
      "fold 1 epoch 58 train 0.026 valid 0.02 metric 0.121\n",
      "fold 1 epoch 59 train 0.02 valid 0.021 metric -0.035\n",
      "fold 1 epoch 60 train 0.021 valid 0.022 metric 0.069\n",
      "fold 1 epoch 61 train 0.022 valid 0.021 metric 0.023\n",
      "fold 1 epoch 62 train 0.022 valid 0.021 metric 0.137\n",
      "fold 1 epoch 63 train 0.019 valid 0.017 metric 0.233\n",
      "fold 1 epoch 64 train 0.018 valid 0.026 metric -0.247\n",
      "fold 1 epoch 65 train 0.024 valid 0.018 metric 0.248\n",
      "fold 1 epoch 66 train 0.018 valid 0.025 metric -0.043\n",
      "fold 1 epoch 67 train 0.022 valid 0.025 metric -0.126\n",
      "fold 1 epoch 68 train 0.021 valid 0.017 metric 0.282\n",
      "fold 1 epoch 69 train 0.015 valid 0.015 metric 0.25\n",
      "fold 1 epoch 70 train 0.014 valid 0.014 metric 0.359\n",
      "fold 1 epoch 71 train 0.015 valid 0.015 metric 0.359\n",
      "fold 1 epoch 72 train 0.013 valid 0.014 metric 0.348\n",
      "fold 1 epoch 73 train 0.013 valid 0.012 metric 0.413\n",
      "fold 1 epoch 74 train 0.013 valid 0.013 metric 0.376\n",
      "fold 1 epoch 75 train 0.012 valid 0.012 metric 0.375\n",
      "fold 1 epoch 76 train 0.012 valid 0.01 metric 0.446\n",
      "fold 1 epoch 77 train 0.01 valid 0.013 metric 0.33\n",
      "fold 1 epoch 78 train 0.011 valid 0.01 metric 0.431\n",
      "fold 1 epoch 79 train 0.01 valid 0.009 metric 0.465\n",
      "fold 1 epoch 80 train 0.01 valid 0.011 metric 0.444\n",
      "fold 1 epoch 81 train 0.012 valid 0.01 metric 0.457\n",
      "fold 1 epoch 82 train 0.011 valid 0.011 metric 0.436\n",
      "fold 1 epoch 83 train 0.011 valid 0.012 metric 0.393\n",
      "fold 1 epoch 84 train 0.012 valid 0.011 metric 0.435\n",
      "fold 1 epoch 85 train 0.011 valid 0.009 metric 0.459\n",
      "fold 1 epoch 86 train 0.009 valid 0.008 metric 0.47\n",
      "fold 1 epoch 87 train 0.009 valid 0.009 metric 0.463\n",
      "fold 1 epoch 88 train 0.009 valid 0.009 metric 0.458\n",
      "fold 1 epoch 89 train 0.008 valid 0.008 metric 0.477\n",
      "fold 1 epoch 90 train 0.009 valid 0.008 metric 0.478\n",
      "fold 1 epoch 91 train 0.009 valid 0.008 metric 0.473\n",
      "fold 1 epoch 92 train 0.008 valid 0.008 metric 0.47\n",
      "fold 1 epoch 93 train 0.009 valid 0.009 metric 0.44\n",
      "fold 1 epoch 94 train 0.009 valid 0.008 metric 0.47\n",
      "fold 1 epoch 95 train 0.008 valid 0.007 metric 0.49\n",
      "fold 1 epoch 96 train 0.008 valid 0.007 metric 0.492\n",
      "fold 1 epoch 97 train 0.009 valid 0.01 metric 0.421\n",
      "fold 1 epoch 98 train 0.009 valid 0.009 metric 0.471\n",
      "fold 1 epoch 99 train 0.009 valid 0.009 metric 0.465\n",
      "fold 1 epoch 100 train 0.008 valid 0.007 metric 0.482\n",
      "fold 1 epoch 101 train 0.007 valid 0.005 metric 0.497\n",
      "fold 1 epoch 102 train 0.007 valid 0.009 metric 0.453\n",
      "fold 1 epoch 103 train 0.007 valid 0.005 metric 0.498\n",
      "fold 1 epoch 104 train 0.007 valid 0.005 metric 0.498\n",
      "fold 1 epoch 105 train 0.007 valid 0.005 metric 0.5\n",
      "fold 1 epoch 106 train 0.007 valid 0.007 metric 0.482\n",
      "fold 1 epoch 107 train 0.008 valid 0.006 metric 0.501\n",
      "fold 1 epoch 108 train 0.007 valid 0.005 metric 0.503\n",
      "fold 1 epoch 109 train 0.006 valid 0.006 metric 0.495\n",
      "fold 1 epoch 110 train 0.007 valid 0.005 metric 0.505\n",
      "fold 1 epoch 111 train 0.006 valid 0.008 metric 0.46\n",
      "fold 1 epoch 112 train 0.007 valid 0.005 metric 0.502\n",
      "fold 1 epoch 113 train 0.006 valid 0.006 metric 0.485\n",
      "fold 1 epoch 114 train 0.006 valid 0.007 metric 0.477\n",
      "fold 1 epoch 115 train 0.007 valid 0.006 metric 0.502\n",
      "fold 1 epoch 116 train 0.006 valid 0.004 metric 0.506\n",
      "fold 1 epoch 117 train 0.006 valid 0.006 metric 0.493\n",
      "fold 1 epoch 118 train 0.006 valid 0.005 metric 0.503\n",
      "fold 1 epoch 119 train 0.006 valid 0.005 metric 0.503\n",
      "fold 1 epoch 120 train 0.006 valid 0.005 metric 0.498\n",
      "fold 1 epoch 121 train 0.006 valid 0.005 metric 0.501\n",
      "fold 1 epoch 122 train 0.006 valid 0.005 metric 0.504\n",
      "fold 1 epoch 123 train 0.006 valid 0.005 metric 0.509\n",
      "fold 1 epoch 124 train 0.005 valid 0.005 metric 0.503\n",
      "fold 1 epoch 125 train 0.006 valid 0.005 metric 0.503\n",
      "fold 1 epoch 126 train 0.005 valid 0.005 metric 0.506\n",
      "fold 1 epoch 127 train 0.005 valid 0.005 metric 0.504\n",
      "fold 1 epoch 128 train 0.006 valid 0.005 metric 0.503\n",
      "fold 1 epoch 129 train 0.005 valid 0.004 metric 0.509\n",
      "fold 1 epoch 130 train 0.006 valid 0.004 metric 0.51\n",
      "fold 1 epoch 131 train 0.005 valid 0.005 metric 0.501\n",
      "fold 1 epoch 132 train 0.005 valid 0.004 metric 0.509\n",
      "fold 1 epoch 133 train 0.005 valid 0.005 metric 0.5\n",
      "fold 1 epoch 134 train 0.006 valid 0.005 metric 0.499\n",
      "fold 1 epoch 135 train 0.006 valid 0.004 metric 0.511\n",
      "fold 1 epoch 136 train 0.005 valid 0.005 metric 0.501\n",
      "fold 1 epoch 137 train 0.005 valid 0.004 metric 0.509\n",
      "fold 1 epoch 138 train 0.005 valid 0.004 metric 0.511\n",
      "fold 1 epoch 139 train 0.005 valid 0.004 metric 0.51\n",
      "fold 1 epoch 140 train 0.005 valid 0.005 metric 0.503\n",
      "fold 1 epoch 141 train 0.005 valid 0.004 metric 0.51\n",
      "fold 1 epoch 142 train 0.005 valid 0.004 metric 0.51\n",
      "fold 1 epoch 143 train 0.005 valid 0.004 metric 0.51\n",
      "fold 1 epoch 144 train 0.005 valid 0.004 metric 0.51\n",
      "fold 1 epoch 145 train 0.005 valid 0.004 metric 0.509\n",
      "fold 1 epoch 146 train 0.005 valid 0.004 metric 0.51\n",
      "fold 1 epoch 147 train 0.005 valid 0.004 metric 0.51\n",
      "fold 1 epoch 148 train 0.005 valid 0.004 metric 0.507\n",
      "fold 1 epoch 149 train 0.005 valid 0.004 metric 0.51\n",
      "fold 1 epoch 150 train 0.005 valid 0.004 metric 0.51\n",
      "fold 1 epoch 151 train 0.005 valid 0.004 metric 0.512\n",
      "fold 1 epoch 152 train 0.005 valid 0.004 metric 0.511\n",
      "fold 1 epoch 153 train 0.005 valid 0.004 metric 0.508\n",
      "fold 1 epoch 154 train 0.005 valid 0.004 metric 0.511\n",
      "fold 1 epoch 155 train 0.005 valid 0.004 metric 0.507\n",
      "fold 1 epoch 156 train 0.005 valid 0.004 metric 0.512\n",
      "fold 1 epoch 157 train 0.004 valid 0.003 metric 0.513\n",
      "fold 1 epoch 158 train 0.004 valid 0.004 metric 0.507\n",
      "fold 1 epoch 159 train 0.005 valid 0.004 metric 0.513\n",
      "fold 1 epoch 160 train 0.004 valid 0.003 metric 0.513\n",
      "fold 1 epoch 161 train 0.004 valid 0.003 metric 0.513\n",
      "fold 1 epoch 162 train 0.005 valid 0.003 metric 0.513\n",
      "fold 1 epoch 163 train 0.004 valid 0.003 metric 0.513\n",
      "fold 1 epoch 164 train 0.004 valid 0.004 metric 0.508\n",
      "fold 1 epoch 165 train 0.004 valid 0.003 metric 0.513\n",
      "fold 1 epoch 166 train 0.004 valid 0.003 metric 0.513\n",
      "fold 1 epoch 167 train 0.004 valid 0.003 metric 0.512\n",
      "fold 1 epoch 168 train 0.004 valid 0.003 metric 0.513\n",
      "fold 1 epoch 169 train 0.004 valid 0.003 metric 0.513\n",
      "fold 1 epoch 170 train 0.004 valid 0.003 metric 0.512\n",
      "fold 1 epoch 171 train 0.004 valid 0.003 metric 0.513\n",
      "fold 1 epoch 172 train 0.004 valid 0.003 metric 0.512\n",
      "fold 1 epoch 173 train 0.004 valid 0.003 metric 0.513\n",
      "fold 1 epoch 174 train 0.004 valid 0.004 metric 0.508\n",
      "fold 1 epoch 175 train 0.004 valid 0.003 metric 0.513\n",
      "fold 1 epoch 176 train 0.004 valid 0.003 metric 0.513\n",
      "fold 1 epoch 177 train 0.004 valid 0.003 metric 0.512\n",
      "fold 1 epoch 178 train 0.004 valid 0.003 metric 0.513\n",
      "fold 1 epoch 179 train 0.004 valid 0.003 metric 0.512\n",
      "fold 1 epoch 180 train 0.004 valid 0.003 metric 0.514\n",
      "fold 1 epoch 181 train 0.004 valid 0.003 metric 0.513\n",
      "fold 1 epoch 182 train 0.004 valid 0.003 metric 0.511\n",
      "fold 1 epoch 183 train 0.004 valid 0.003 metric 0.513\n",
      "fold 1 epoch 184 train 0.004 valid 0.003 metric 0.514\n",
      "fold 1 epoch 185 train 0.004 valid 0.003 metric 0.514\n",
      "fold 1 epoch 186 train 0.004 valid 0.003 metric 0.513\n",
      "fold 1 epoch 187 train 0.004 valid 0.003 metric 0.514\n",
      "fold 1 epoch 188 train 0.004 valid 0.003 metric 0.514\n",
      "fold 1 epoch 189 train 0.004 valid 0.003 metric 0.514\n",
      "fold 1 epoch 190 train 0.004 valid 0.003 metric 0.513\n",
      "fold 1 epoch 191 train 0.004 valid 0.003 metric 0.514\n",
      "fold 1 epoch 192 train 0.004 valid 0.003 metric 0.514\n",
      "fold 1 epoch 193 train 0.004 valid 0.003 metric 0.514\n",
      "fold 1 epoch 194 train 0.004 valid 0.003 metric 0.514\n",
      "fold 1 epoch 195 train 0.004 valid 0.003 metric 0.514\n",
      "fold 1 epoch 196 train 0.004 valid 0.003 metric 0.514\n",
      "fold 1 epoch 197 train 0.004 valid 0.003 metric 0.514\n",
      "fold 1 epoch 198 train 0.004 valid 0.003 metric 0.514\n",
      "fold 1 epoch 199 train 0.004 valid 0.003 metric 0.514\n"
     ]
    }
   ],
   "source": [
    "\n",
    "for ifold, (train_index, test_index) in enumerate(kf.split(X)):\n",
    "    if ifold!=1:\n",
    "        continue\n",
    "    print('test_index:',test_index)\n",
    "    train_x = torch.from_numpy(train[train_index]).unsqueeze(1).float()\n",
    "    train_y = torch.from_numpy(train_labels.values[train_index]).float()\n",
    "    train_dataset = torch.utils.data.TensorDataset(train_x, train_y)\n",
    "    training_loader = torch.utils.data.DataLoader(train_dataset, batch_size=32, shuffle=True)\n",
    "\n",
    "    val_x = torch.from_numpy(train[test_index]).unsqueeze(1).float()\n",
    "    val_y = torch.from_numpy(train_labels.values[test_index]).float()\n",
    "    val_dataset = torch.utils.data.TensorDataset(val_x, val_y)\n",
    "    validation_loader = torch.utils.data.DataLoader(val_dataset, batch_size=32, shuffle=False)\n",
    "    \n",
    "    model = ImpModel().cuda()\n",
    "\n",
    "    best_metric = 0\n",
    "    total_train_losses = []\n",
    "\n",
    "    optimizer = torch.optim.AdamW(model.parameters(), lr=0.001)\n",
    "    scheduler = torch.optim.lr_scheduler.CosineAnnealingLR(optimizer, 200, eta_min=0, last_epoch=-1)\n",
    "    for epoch in range(200):\n",
    "        ep_losses = []        \n",
    "        model.train()\n",
    "        for i, data in enumerate(training_loader):\n",
    "            inputs, labels = data\n",
    "            optimizer.zero_grad()\n",
    "\n",
    "            #augmentations: disturb channel and reverse the time\n",
    "            # if epoch > 0:\n",
    "            #     for j in range(inputs.shape[-1]):\n",
    "            #         if np.random.random() > 0.8:\n",
    "            #             inputs[...,j] = inputs[...,j] * (1 + np.random.randn() * 0.01)\n",
    "            #     for k in range(inputs.shape[0]):\n",
    "            #         if np.random.random() > 0.8:\n",
    "            #             inputs[k] = torch.flip(inputs[k], (1,))\n",
    "\n",
    "            outputs = model(inputs.cuda()).reshape((inputs.shape[0], 283, 3))\n",
    "\n",
    "            loss = q_loss([0.1587,0.5,0.8413], outputs, labels.cuda()).mean()\n",
    "            # print(loss.item())\n",
    "            loss.backward()\n",
    "\n",
    "            optimizer.step()\n",
    "\n",
    "            ep_losses.append(loss.item())\n",
    "\n",
    "        avg_loss = np.mean(ep_losses)\n",
    "        total_train_losses.append(avg_loss)\n",
    "\n",
    "        model.eval()\n",
    "        running_vloss = 0\n",
    "        preds = np.zeros((len(val_dataset), 283))\n",
    "        sigmas = np.zeros((len(val_dataset), 283))\n",
    "        v_offset = 0\n",
    "        with torch.no_grad():        \n",
    "            for i, vdata in enumerate(validation_loader):\n",
    "                vinputs, vlabels = vdata\n",
    "                voutputs = model(vinputs.cuda()).reshape((vinputs.shape[0], 283, 3))\n",
    "                preds[v_offset:v_offset+len(vinputs)] = voutputs[:,:,1].detach().cpu().numpy()\n",
    "                sigmas[v_offset:v_offset+len(vinputs)] = voutputs[:,:,2].detach().cpu().numpy() - voutputs[:,:,0].detach().cpu().numpy()\n",
    "                vloss = q_loss([0.1587,0.5,0.8413], voutputs, vlabels.cuda()).mean()\n",
    "                running_vloss += vloss\n",
    "                v_offset += len(vinputs)\n",
    "\n",
    "        avg_vloss = running_vloss / (i + 1)\n",
    "        sigmas_new = np.zeros((len(val_dataset), 283))+14e-5\n",
    "\n",
    "        metric = ariel_score(        \n",
    "            train_labels.values[test_index],\n",
    "            np.concatenate([preds.clip(0), sigmas_new.clip(0)], axis=1), \n",
    "            train_labels.values[test_index].mean(),\n",
    "            train_labels.values[test_index].std(),\n",
    "            sigma_true=1e-5)\n",
    "        \n",
    "        print('fold {} epoch {} train {} valid {} metric {}'.format(ifold, epoch, \n",
    "                                                                    round(avg_loss*100,3), \n",
    "                                                                    round(avg_vloss.item()*100,3), \n",
    "                                                                    round(metric,3) ))\n",
    "        scheduler.step()\n",
    "        \n",
    "    oof_pred[test_index] = preds\n",
    "    oof_sigmas[test_index] = sigmas\n",
    "    torch.save(model.state_dict(), 'purple_hat_{}'.format(ifold))\n",
    "    del model"
   ]
  },
  {
   "cell_type": "code",
   "execution_count": null,
   "metadata": {},
   "outputs": [],
   "source": []
  },
  {
   "cell_type": "code",
   "execution_count": 24,
   "metadata": {},
   "outputs": [
    {
     "data": {
      "text/plain": [
       "0.5328085092112373"
      ]
     },
     "execution_count": 24,
     "metadata": {},
     "output_type": "execute_result"
    }
   ],
   "source": [
    "ariel_score(        \n",
    "            train_labels.values,\n",
    "            np.concatenate([oof_pred.clip(0), oof_sigmas.clip(0)], axis=1), \n",
    "            train_labels.values.mean(),\n",
    "            train_labels.values.std(),\n",
    "            sigma_true=1e-5)"
   ]
  },
  {
   "cell_type": "code",
   "execution_count": 26,
   "metadata": {},
   "outputs": [
    {
     "data": {
      "text/plain": [
       "[<matplotlib.lines.Line2D at 0x7f1c76189570>]"
      ]
     },
     "execution_count": 26,
     "metadata": {},
     "output_type": "execute_result"
    },
    {
     "data": {
      "image/png": "[encoded data removed]",
      "text/plain": [
       "<Figure size 640x480 with 1 Axes>"
      ]
     },
     "metadata": {},
     "output_type": "display_data"
    }
   ],
   "source": [
    "xs,ys = [], []\n",
    "for i in range(200):\n",
    "    xs.append(i/100.0)\n",
    "    ys.append(ariel_score(        \n",
    "            train_labels.values,\n",
    "            np.concatenate([oof_pred.clip(0), oof_sigmas.clip(0) * (i / 100.0)], axis=1), \n",
    "            train_labels.values.mean(),\n",
    "            train_labels.values.std(),\n",
    "            sigma_true=1e-5))\n",
    "plt.plot(xs, np.array(ys).clip(0))"
   ]
  },
  {
   "cell_type": "code",
   "execution_count": 8,
   "metadata": {},
   "outputs": [],
   "source": [
    "wavelen = pd.read_csv('../input/ariel-data-challenge-2024/wavelengths.csv')"
   ]
  },
  {
   "cell_type": "code",
   "execution_count": 9,
   "metadata": {},
   "outputs": [
    {
     "data": {
      "text/plain": [
       "[<matplotlib.lines.Line2D at 0x7f08899f2b00>]"
      ]
     },
     "execution_count": 9,
     "metadata": {},
     "output_type": "execute_result"
    },
    {
     "data": {
      "image/png": "[encoded data removed]",
      "text/plain": [
       "<Figure size 640x480 with 1 Axes>"
      ]
     },
     "metadata": {},
     "output_type": "display_data"
    }
   ],
   "source": [
    "plt.plot(wavelen.values[0],train_labels.iloc[0].values,'.')\n",
    "plt.plot(wavelen.values[0],oof_pred[0],'.')\n",
    "plt.plot(wavelen.values[0],pred_0[0],'.')\n",
    "\n"
   ]
  },
  {
   "cell_type": "code",
   "execution_count": null,
   "metadata": {},
   "outputs": [],
   "source": []
  }
 ],
 "metadata": {
  "kaggle": {
   "accelerator": "gpu",
   "dataSources": [
    {
     "databundleVersionId": 9188054,
     "sourceId": 70367,
     "sourceType": "competition"
    },
    {
     "sourceId": 196077576,
     "sourceType": "kernelVersion"
    }
   ],
   "dockerImageVersionId": 30762,
   "isGpuEnabled": true,
   "isInternetEnabled": true,
   "language": "python",
   "sourceType": "notebook"
  },
  "kernelspec": {
   "display_name": "Python 3 (ipykernel)",
   "language": "python",
   "name": "python3"
  },
  "language_info": {
   "codemirror_mode": {
    "name": "ipython",
    "version": 3
   },
   "file_extension": ".py",
   "mimetype": "text/x-python",
   "name": "python",
   "nbconvert_exporter": "python",
   "pygments_lexer": "ipython3",
   "version": "3.10.8"
  }
 },
 "nbformat": 4,
 "nbformat_minor": 4
}
